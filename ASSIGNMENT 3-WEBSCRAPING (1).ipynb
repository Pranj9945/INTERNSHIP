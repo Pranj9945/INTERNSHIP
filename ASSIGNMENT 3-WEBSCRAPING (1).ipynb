{
 "cells": [
  {
   "cell_type": "markdown",
   "id": "3af181dd",
   "metadata": {},
   "source": [
    "1. Write a python program which searches all the product under a particular product from www.amazon.in. The product name to be searched will be taken as input from user. For e.g. If user input is ‘guitar’. Then search for guitars."
   ]
  },
  {
   "cell_type": "code",
   "execution_count": 1,
   "id": "501fc03e",
   "metadata": {},
   "outputs": [],
   "source": [
    "#Importing required libraries\n",
    "import selenium\n",
    "import pandas as pd\n",
    "from selenium import webdriver\n",
    "import time\n",
    "from selenium.common.exceptions import NoSuchElementException\n",
    "from selenium.webdriver.common.keys import Keys"
   ]
  },
  {
   "cell_type": "code",
   "execution_count": 2,
   "id": "d76e44a4",
   "metadata": {},
   "outputs": [
    {
     "name": "stderr",
     "output_type": "stream",
     "text": [
      "C:\\Users\\Sony\\AppData\\Local\\Temp/ipykernel_1372/2372367619.py:2: DeprecationWarning: executable_path has been deprecated, please pass in a Service object\n",
      "  driver=webdriver.Chrome(\"C:\\\\Users\\\\Sony\\\\AppData\\\\Local\\\\Google\\\\Chrome\\\\chromedriver.exe\")  #r converts string to raw string\n"
     ]
    }
   ],
   "source": [
    "#Connect to web driver\n",
    "driver=webdriver.Chrome(\"C:\\\\Users\\\\Sony\\\\AppData\\\\Local\\\\Google\\\\Chrome\\\\chromedriver.exe\")  #r converts string to raw string\n",
    "#If not r, we can use executable_path = \"C:/path name\""
   ]
  },
  {
   "cell_type": "code",
   "execution_count": 3,
   "id": "866d25f3",
   "metadata": {},
   "outputs": [],
   "source": [
    "#Getting the website to driver\n",
    "driver.get('https://www.amazon.in/')\n",
    "\n",
    "#When we run this line, automatically the webpage will be opened"
   ]
  },
  {
   "cell_type": "code",
   "execution_count": 4,
   "id": "d6ae176b",
   "metadata": {},
   "outputs": [
    {
     "name": "stderr",
     "output_type": "stream",
     "text": [
      "C:\\Users\\Sony\\AppData\\Local\\Temp/ipykernel_1372/1913726420.py:2: DeprecationWarning: find_element_by_* commands are deprecated. Please use find_element() instead\n",
      "  search_bar=driver.find_element_by_id('twotabsearchtextbox')\n",
      "C:\\Users\\Sony\\AppData\\Local\\Temp/ipykernel_1372/1913726420.py:5: DeprecationWarning: find_element_by_* commands are deprecated. Please use find_element() instead\n",
      "  driver.find_element_by_id('nav-search-submit-button').click()\n"
     ]
    }
   ],
   "source": [
    "#Searching headphones in the search bar and clicking the search button\n",
    "search_bar=driver.find_element_by_id('twotabsearchtextbox')\n",
    "search_bar.send_keys(\"guitar\")\n",
    "\n",
    "driver.find_element_by_id('nav-search-submit-button').click()"
   ]
  },
  {
   "cell_type": "markdown",
   "id": "e5421c59",
   "metadata": {},
   "source": [
    "2. In the above question, now scrape the following details of each product listed in first 3 pages of your search results and save it in a dataframe and csv. In case if any product vertical has less than 3 pages in search results then scrape all the products available under that product vertical. Details to be scraped are: \"Brand Name\", \"Name of the Product\", \"Rating\", \"No. of Ratings\", \"Price\", \"Return/Exchange\", \"Expected Delivery\", \"Availability\", \"Other Details\" and “Product URL”. In case, if any of the details are missing for any of the product then replace it by “-“."
   ]
  },
  {
   "cell_type": "code",
   "execution_count": 5,
   "id": "d3235a4c",
   "metadata": {},
   "outputs": [
    {
     "name": "stderr",
     "output_type": "stream",
     "text": [
      "C:\\Users\\Sony\\AppData\\Local\\Temp/ipykernel_1372/2521072189.py:2: DeprecationWarning: executable_path has been deprecated, please pass in a Service object\n",
      "  driver = webdriver.Chrome(\"C:\\\\Users\\\\Sony\\\\AppData\\\\Local\\\\Google\\\\Chrome\\\\chromedriver.exe\")\n"
     ]
    }
   ],
   "source": [
    "from selenium import webdriver\n",
    "driver = webdriver.Chrome(\"C:\\\\Users\\\\Sony\\\\AppData\\\\Local\\\\Google\\\\Chrome\\\\chromedriver.exe\")"
   ]
  },
  {
   "cell_type": "code",
   "execution_count": 6,
   "id": "6ee10995",
   "metadata": {},
   "outputs": [
    {
     "name": "stderr",
     "output_type": "stream",
     "text": [
      "C:\\Users\\Sony\\AppData\\Local\\Temp/ipykernel_1372/2957371442.py:4: DeprecationWarning: find_elements_by_xpath is deprecated. Please use find_elements(by=By.XPATH, value=xpath) instead\n",
      "  for i in driver.find_elements_by_xpath(\"//div[@class='a-section a-spacing-medium']//h2\"):\n",
      "C:\\Users\\Sony\\AppData\\Local\\Temp/ipykernel_1372/2957371442.py:7: DeprecationWarning: find_element_by_xpath is deprecated. Please use find_element(by=By.XPATH, value=xpath) instead\n",
      "  next_page=driver.find_element_by_xpath(\"//div[@class='a-text-center']/ul/li[@class='a-last']/a\").get_attribute('href')\n"
     ]
    }
   ],
   "source": [
    "#Creating a for loop to append the urls of first 3 pages\n",
    "URL=[]  #Empty list\n",
    "for page in range(0,3):\n",
    "    for i in driver.find_elements_by_xpath(\"//div[@class='a-section a-spacing-medium']//h2\"):\n",
    "        URL.append(i.find_element_by_xpath(\".//a\").get_attribute('href'))\n",
    "    try:\n",
    "        next_page=driver.find_element_by_xpath(\"//div[@class='a-text-center']/ul/li[@class='a-last']/a\").get_attribute('href')\n",
    "        driver.get(next_page)\n",
    "        driver.refresh()   \n",
    "    except:\n",
    "        break    "
   ]
  },
  {
   "cell_type": "code",
   "execution_count": 7,
   "id": "d48a6007",
   "metadata": {},
   "outputs": [],
   "source": [
    "#Taking the empty lists\n",
    "brand_name=[]\n",
    "product_name=[]\n",
    "Rating=[]\n",
    "no_of_ratings=[]\n",
    "price=[]\n",
    "returns=[]\n",
    "delivery=[]\n",
    "availability=[]\n",
    "other_details=[]\n",
    "product_url=[]"
   ]
  },
  {
   "cell_type": "code",
   "execution_count": 8,
   "id": "b59cf5a1",
   "metadata": {},
   "outputs": [],
   "source": [
    "#We are running a for loop for the url as it changes for every page and we are extracting the product url\n",
    "for i in URL:\n",
    "    driver.get(i)\n",
    "    product_url.append(i)\n",
    "    driver.implicitly_wait(3)  #Making the driver automatically wait for 3 seconds "
   ]
  },
  {
   "cell_type": "code",
   "execution_count": 9,
   "id": "c7dfee43",
   "metadata": {},
   "outputs": [],
   "source": [
    "from selenium.common.exceptions import NoSuchElementException\n"
   ]
  },
  {
   "cell_type": "code",
   "execution_count": 10,
   "id": "cd038150",
   "metadata": {},
   "outputs": [
    {
     "name": "stderr",
     "output_type": "stream",
     "text": [
      "C:\\Users\\Sony\\AppData\\Local\\Temp/ipykernel_1372/2826718044.py:3: DeprecationWarning: find_element_by_* commands are deprecated. Please use find_element() instead\n",
      "  brand_name.append(driver.find_element_by_id(\"productTitle\").text.split(' ')[0])\n"
     ]
    }
   ],
   "source": [
    " #Extracting the brand name\n",
    "try:\n",
    "    brand_name.append(driver.find_element_by_id(\"productTitle\").text.split(' ')[0])\n",
    "except NoSuchElementException as e:\n",
    "        brand_name.append(\"-\")\n",
    "        driver.implicitly_wait(3)  #Making the driver automatically wait for 3 seconds "
   ]
  },
  {
   "cell_type": "code",
   "execution_count": 11,
   "id": "e6af3652",
   "metadata": {},
   "outputs": [
    {
     "name": "stderr",
     "output_type": "stream",
     "text": [
      "C:\\Users\\Sony\\AppData\\Local\\Temp/ipykernel_1372/359592650.py:4: DeprecationWarning: find_element_by_* commands are deprecated. Please use find_element() instead\n",
      "  for j in driver.find_element_by_id(\"productTitle\").text.split(' ')[1:]:\n"
     ]
    }
   ],
   "source": [
    "#Extracting the product name\n",
    "try:\n",
    "    string=' '  #Empty string\n",
    "    for j in driver.find_element_by_id(\"productTitle\").text.split(' ')[1:]:\n",
    "        string=string+' '+j  #Extracting the text and appending to empty string\n",
    "    product_name.append(string)  #Appending the string having the extracted text\n",
    "except NoSuchElementException as e:\n",
    "    product_name.append(\"-\")\n",
    "driver.implicitly_wait(3)  #Making the driver automatically wait for 3 seconds"
   ]
  },
  {
   "cell_type": "code",
   "execution_count": 12,
   "id": "7d515d05",
   "metadata": {},
   "outputs": [
    {
     "name": "stderr",
     "output_type": "stream",
     "text": [
      "C:\\Users\\Sony\\AppData\\Local\\Temp/ipykernel_1372/1510205214.py:3: DeprecationWarning: find_element_by_* commands are deprecated. Please use find_element() instead\n",
      "  Rating.append(driver.find_element_by_id(\"acrPopover\").get_attribute('title'))\n"
     ]
    }
   ],
   "source": [
    "    #Extracting the ratings\n",
    "    try:\n",
    "        Rating.append(driver.find_element_by_id(\"acrPopover\").get_attribute('title')) \n",
    "    except NoSuchElementException as e:\n",
    "        Rating.append(\"-\")\n",
    "    driver.implicitly_wait(3)  #Making the driver automatically wait for 3 seconds "
   ]
  },
  {
   "cell_type": "code",
   "execution_count": 13,
   "id": "79214783",
   "metadata": {},
   "outputs": [
    {
     "name": "stderr",
     "output_type": "stream",
     "text": [
      "C:\\Users\\Sony\\AppData\\Local\\Temp/ipykernel_1372/1016516635.py:3: DeprecationWarning: find_element_by_* commands are deprecated. Please use find_element() instead\n",
      "  no_of_ratings.append(driver.find_element_by_id(\"acrCustomerReviewText\").text)\n"
     ]
    }
   ],
   "source": [
    "#Extracting the number of ratings\n",
    "try:\n",
    "    no_of_ratings.append(driver.find_element_by_id(\"acrCustomerReviewText\").text) \n",
    "except NoSuchElementException as e:\n",
    "    no_of_ratings.append(\"-\")\n",
    "driver.implicitly_wait(3)  #Making the driver automatically wait for 3 seconds"
   ]
  },
  {
   "cell_type": "code",
   "execution_count": 14,
   "id": "cc456649",
   "metadata": {},
   "outputs": [
    {
     "name": "stderr",
     "output_type": "stream",
     "text": [
      "C:\\Users\\Sony\\AppData\\Local\\Temp/ipykernel_1372/1600087554.py:4: DeprecationWarning: find_element_by_* commands are deprecated. Please use find_element() instead\n",
      "  price.append(driver.find_element_by_id(\"priceblock_saleprice\").text)\n",
      "C:\\Users\\Sony\\AppData\\Local\\Temp/ipykernel_1372/1600087554.py:7: DeprecationWarning: find_element_by_* commands are deprecated. Please use find_element() instead\n",
      "  price.append(driver.find_element_by_id(\"priceblock_dealprice\").text)\n",
      "C:\\Users\\Sony\\AppData\\Local\\Temp/ipykernel_1372/1600087554.py:9: DeprecationWarning: find_element_by_* commands are deprecated. Please use find_element() instead\n",
      "  price.append(driver.find_element_by_id(\"priceblock_ourprice\").text)\n"
     ]
    }
   ],
   "source": [
    "#Extracting the price\n",
    "try:\n",
    "    try:\n",
    "        price.append(driver.find_element_by_id(\"priceblock_saleprice\").text) \n",
    "    except:\n",
    "        try:\n",
    "            price.append(driver.find_element_by_id(\"priceblock_dealprice\").text)\n",
    "        except:\n",
    "            price.append(driver.find_element_by_id(\"priceblock_ourprice\").text)\n",
    "except NoSuchElementException as e:\n",
    "    price.append(\"-\")\n",
    "driver.implicitly_wait(3)  #Making the driver automatically wait for 3 seconds"
   ]
  },
  {
   "cell_type": "code",
   "execution_count": 15,
   "id": "35bbb52a",
   "metadata": {},
   "outputs": [
    {
     "name": "stderr",
     "output_type": "stream",
     "text": [
      "C:\\Users\\Sony\\AppData\\Local\\Temp/ipykernel_1372/4066034482.py:3: DeprecationWarning: find_element_by_xpath is deprecated. Please use find_element(by=By.XPATH, value=xpath) instead\n",
      "  returns.append(driver.find_element_by_xpath(\"//div[@id='RETURNS_POLICY']\").text)\n"
     ]
    }
   ],
   "source": [
    "#Extracting the Return/Exchange\n",
    "try:\n",
    "    returns.append(driver.find_element_by_xpath(\"//div[@id='RETURNS_POLICY']\").text)\n",
    "except NoSuchElementException as e:\n",
    "    returns.append(\"-\")\n",
    "driver.implicitly_wait(3)  #Making the driver automatically wait for 3 seconds "
   ]
  },
  {
   "cell_type": "code",
   "execution_count": 16,
   "id": "df20fc07",
   "metadata": {},
   "outputs": [
    {
     "name": "stderr",
     "output_type": "stream",
     "text": [
      "C:\\Users\\Sony\\AppData\\Local\\Temp/ipykernel_1372/2613758045.py:3: DeprecationWarning: find_element_by_xpath is deprecated. Please use find_element(by=By.XPATH, value=xpath) instead\n",
      "  delivery.append(driver.find_element_by_xpath('//div[@id=\"ddmDeliveryMessage\"]/b').text)\n"
     ]
    }
   ],
   "source": [
    "#Extracting Expected Delivery\n",
    "try:\n",
    "    delivery.append(driver.find_element_by_xpath('//div[@id=\"ddmDeliveryMessage\"]/b').text)\n",
    "except NoSuchElementException as e:\n",
    "    delivery.append(\"-\")\n",
    "driver.implicitly_wait(3)  #Making the driver automatically wait for 3 seconds  "
   ]
  },
  {
   "cell_type": "code",
   "execution_count": 17,
   "id": "6bf332f2",
   "metadata": {},
   "outputs": [
    {
     "name": "stderr",
     "output_type": "stream",
     "text": [
      "C:\\Users\\Sony\\AppData\\Local\\Temp/ipykernel_1372/570332634.py:3: DeprecationWarning: find_element_by_xpath is deprecated. Please use find_element(by=By.XPATH, value=xpath) instead\n",
      "  availability.append(driver.find_element_by_xpath(\"//div[@id='availability']\").text)\n"
     ]
    }
   ],
   "source": [
    "#Extracting the availability of headphones\n",
    "try:\n",
    "    availability.append(driver.find_element_by_xpath(\"//div[@id='availability']\").text)\n",
    "except NoSuchElementException as e:    \n",
    "    availability.append(\"-\")\n",
    "driver.implicitly_wait(3)  #Making the driver automatically wait for 3 seconds"
   ]
  },
  {
   "cell_type": "code",
   "execution_count": 18,
   "id": "9e2136f1",
   "metadata": {},
   "outputs": [
    {
     "name": "stderr",
     "output_type": "stream",
     "text": [
      "C:\\Users\\Sony\\AppData\\Local\\Temp/ipykernel_1372/1254314811.py:3: DeprecationWarning: find_element_by_* commands are deprecated. Please use find_element() instead\n",
      "  details=[i.text.replace('\\n','---') for i in driver.find_element_by_id(\"productDetails_techSpec_section_1\").find_elements_by_xpath(\".//tbody\")]\n"
     ]
    }
   ],
   "source": [
    "#Extracting the other details available\n",
    "try:\n",
    "    details=[i.text.replace('\\n','---') for i in driver.find_element_by_id(\"productDetails_techSpec_section_1\").find_elements_by_xpath(\".//tbody\")]\n",
    "    other_details.append(details[0])\n",
    "except NoSuchElementException as e:     \n",
    "    other_details.append(\"-\")\n",
    "driver.implicitly_wait(3)  #Making the driver automatically wait for 3 seconds"
   ]
  },
  {
   "cell_type": "code",
   "execution_count": 19,
   "id": "fa9127b2",
   "metadata": {},
   "outputs": [
    {
     "name": "stdout",
     "output_type": "stream",
     "text": [
      "1 1 1 1 1 1 1 1 1\n"
     ]
    }
   ],
   "source": [
    "#Checking the length of data extracted\n",
    "print(len(brand_name),len(product_name),len(Rating),len(no_of_ratings),len(price),len(returns),len(delivery),\n",
    "      len(availability),len(other_details))"
   ]
  },
  {
   "cell_type": "code",
   "execution_count": 21,
   "id": "5c99816e",
   "metadata": {},
   "outputs": [
    {
     "ename": "ValueError",
     "evalue": "All arrays must be of the same length",
     "output_type": "error",
     "traceback": [
      "\u001b[1;31m---------------------------------------------------------------------------\u001b[0m",
      "\u001b[1;31mValueError\u001b[0m                                Traceback (most recent call last)",
      "\u001b[1;32m~\\AppData\\Local\\Temp/ipykernel_1372/3216250321.py\u001b[0m in \u001b[0;36m<module>\u001b[1;34m\u001b[0m\n\u001b[0;32m      1\u001b[0m \u001b[1;31m#Creating a dataframe and checking the data extracted\u001b[0m\u001b[1;33m\u001b[0m\u001b[1;33m\u001b[0m\u001b[0m\n\u001b[1;32m----> 2\u001b[1;33m amazon=pd.DataFrame({'Brand Name':brand_name,'Name of Product':product_name,'Rating':Rating,'No of Ratings':no_of_ratings,\n\u001b[0m\u001b[0;32m      3\u001b[0m                      \u001b[1;34m'Price'\u001b[0m\u001b[1;33m:\u001b[0m\u001b[0mprice\u001b[0m\u001b[1;33m,\u001b[0m\u001b[1;34m'Return/Exchange'\u001b[0m\u001b[1;33m:\u001b[0m\u001b[0mreturns\u001b[0m\u001b[1;33m,\u001b[0m\u001b[1;34m'Expected Delivery'\u001b[0m\u001b[1;33m:\u001b[0m\u001b[0mdelivery\u001b[0m\u001b[1;33m,\u001b[0m\u001b[1;34m'Availability'\u001b[0m\u001b[1;33m:\u001b[0m\u001b[0mavailability\u001b[0m\u001b[1;33m,\u001b[0m\u001b[1;33m\u001b[0m\u001b[1;33m\u001b[0m\u001b[0m\n\u001b[0;32m      4\u001b[0m                      'Other details':other_details,'Product URL':product_url})\n\u001b[0;32m      5\u001b[0m \u001b[0mamazon\u001b[0m\u001b[1;33m\u001b[0m\u001b[1;33m\u001b[0m\u001b[0m\n",
      "\u001b[1;32mD:\\Anaconda\\lib\\site-packages\\pandas\\core\\frame.py\u001b[0m in \u001b[0;36m__init__\u001b[1;34m(self, data, index, columns, dtype, copy)\u001b[0m\n\u001b[0;32m    612\u001b[0m         \u001b[1;32melif\u001b[0m \u001b[0misinstance\u001b[0m\u001b[1;33m(\u001b[0m\u001b[0mdata\u001b[0m\u001b[1;33m,\u001b[0m \u001b[0mdict\u001b[0m\u001b[1;33m)\u001b[0m\u001b[1;33m:\u001b[0m\u001b[1;33m\u001b[0m\u001b[1;33m\u001b[0m\u001b[0m\n\u001b[0;32m    613\u001b[0m             \u001b[1;31m# GH#38939 de facto copy defaults to False only in non-dict cases\u001b[0m\u001b[1;33m\u001b[0m\u001b[1;33m\u001b[0m\u001b[0m\n\u001b[1;32m--> 614\u001b[1;33m             \u001b[0mmgr\u001b[0m \u001b[1;33m=\u001b[0m \u001b[0mdict_to_mgr\u001b[0m\u001b[1;33m(\u001b[0m\u001b[0mdata\u001b[0m\u001b[1;33m,\u001b[0m \u001b[0mindex\u001b[0m\u001b[1;33m,\u001b[0m \u001b[0mcolumns\u001b[0m\u001b[1;33m,\u001b[0m \u001b[0mdtype\u001b[0m\u001b[1;33m=\u001b[0m\u001b[0mdtype\u001b[0m\u001b[1;33m,\u001b[0m \u001b[0mcopy\u001b[0m\u001b[1;33m=\u001b[0m\u001b[0mcopy\u001b[0m\u001b[1;33m,\u001b[0m \u001b[0mtyp\u001b[0m\u001b[1;33m=\u001b[0m\u001b[0mmanager\u001b[0m\u001b[1;33m)\u001b[0m\u001b[1;33m\u001b[0m\u001b[1;33m\u001b[0m\u001b[0m\n\u001b[0m\u001b[0;32m    615\u001b[0m         \u001b[1;32melif\u001b[0m \u001b[0misinstance\u001b[0m\u001b[1;33m(\u001b[0m\u001b[0mdata\u001b[0m\u001b[1;33m,\u001b[0m \u001b[0mma\u001b[0m\u001b[1;33m.\u001b[0m\u001b[0mMaskedArray\u001b[0m\u001b[1;33m)\u001b[0m\u001b[1;33m:\u001b[0m\u001b[1;33m\u001b[0m\u001b[1;33m\u001b[0m\u001b[0m\n\u001b[0;32m    616\u001b[0m             \u001b[1;32mimport\u001b[0m \u001b[0mnumpy\u001b[0m\u001b[1;33m.\u001b[0m\u001b[0mma\u001b[0m\u001b[1;33m.\u001b[0m\u001b[0mmrecords\u001b[0m \u001b[1;32mas\u001b[0m \u001b[0mmrecords\u001b[0m\u001b[1;33m\u001b[0m\u001b[1;33m\u001b[0m\u001b[0m\n",
      "\u001b[1;32mD:\\Anaconda\\lib\\site-packages\\pandas\\core\\internals\\construction.py\u001b[0m in \u001b[0;36mdict_to_mgr\u001b[1;34m(data, index, columns, dtype, typ, copy)\u001b[0m\n\u001b[0;32m    462\u001b[0m         \u001b[1;31m# TODO: can we get rid of the dt64tz special case above?\u001b[0m\u001b[1;33m\u001b[0m\u001b[1;33m\u001b[0m\u001b[0m\n\u001b[0;32m    463\u001b[0m \u001b[1;33m\u001b[0m\u001b[0m\n\u001b[1;32m--> 464\u001b[1;33m     return arrays_to_mgr(\n\u001b[0m\u001b[0;32m    465\u001b[0m         \u001b[0marrays\u001b[0m\u001b[1;33m,\u001b[0m \u001b[0mdata_names\u001b[0m\u001b[1;33m,\u001b[0m \u001b[0mindex\u001b[0m\u001b[1;33m,\u001b[0m \u001b[0mcolumns\u001b[0m\u001b[1;33m,\u001b[0m \u001b[0mdtype\u001b[0m\u001b[1;33m=\u001b[0m\u001b[0mdtype\u001b[0m\u001b[1;33m,\u001b[0m \u001b[0mtyp\u001b[0m\u001b[1;33m=\u001b[0m\u001b[0mtyp\u001b[0m\u001b[1;33m,\u001b[0m \u001b[0mconsolidate\u001b[0m\u001b[1;33m=\u001b[0m\u001b[0mcopy\u001b[0m\u001b[1;33m\u001b[0m\u001b[1;33m\u001b[0m\u001b[0m\n\u001b[0;32m    466\u001b[0m     )\n",
      "\u001b[1;32mD:\\Anaconda\\lib\\site-packages\\pandas\\core\\internals\\construction.py\u001b[0m in \u001b[0;36marrays_to_mgr\u001b[1;34m(arrays, arr_names, index, columns, dtype, verify_integrity, typ, consolidate)\u001b[0m\n\u001b[0;32m    117\u001b[0m         \u001b[1;31m# figure out the index, if necessary\u001b[0m\u001b[1;33m\u001b[0m\u001b[1;33m\u001b[0m\u001b[0m\n\u001b[0;32m    118\u001b[0m         \u001b[1;32mif\u001b[0m \u001b[0mindex\u001b[0m \u001b[1;32mis\u001b[0m \u001b[1;32mNone\u001b[0m\u001b[1;33m:\u001b[0m\u001b[1;33m\u001b[0m\u001b[1;33m\u001b[0m\u001b[0m\n\u001b[1;32m--> 119\u001b[1;33m             \u001b[0mindex\u001b[0m \u001b[1;33m=\u001b[0m \u001b[0m_extract_index\u001b[0m\u001b[1;33m(\u001b[0m\u001b[0marrays\u001b[0m\u001b[1;33m)\u001b[0m\u001b[1;33m\u001b[0m\u001b[1;33m\u001b[0m\u001b[0m\n\u001b[0m\u001b[0;32m    120\u001b[0m         \u001b[1;32melse\u001b[0m\u001b[1;33m:\u001b[0m\u001b[1;33m\u001b[0m\u001b[1;33m\u001b[0m\u001b[0m\n\u001b[0;32m    121\u001b[0m             \u001b[0mindex\u001b[0m \u001b[1;33m=\u001b[0m \u001b[0mensure_index\u001b[0m\u001b[1;33m(\u001b[0m\u001b[0mindex\u001b[0m\u001b[1;33m)\u001b[0m\u001b[1;33m\u001b[0m\u001b[1;33m\u001b[0m\u001b[0m\n",
      "\u001b[1;32mD:\\Anaconda\\lib\\site-packages\\pandas\\core\\internals\\construction.py\u001b[0m in \u001b[0;36m_extract_index\u001b[1;34m(data)\u001b[0m\n\u001b[0;32m    633\u001b[0m             \u001b[0mlengths\u001b[0m \u001b[1;33m=\u001b[0m \u001b[0mlist\u001b[0m\u001b[1;33m(\u001b[0m\u001b[0mset\u001b[0m\u001b[1;33m(\u001b[0m\u001b[0mraw_lengths\u001b[0m\u001b[1;33m)\u001b[0m\u001b[1;33m)\u001b[0m\u001b[1;33m\u001b[0m\u001b[1;33m\u001b[0m\u001b[0m\n\u001b[0;32m    634\u001b[0m             \u001b[1;32mif\u001b[0m \u001b[0mlen\u001b[0m\u001b[1;33m(\u001b[0m\u001b[0mlengths\u001b[0m\u001b[1;33m)\u001b[0m \u001b[1;33m>\u001b[0m \u001b[1;36m1\u001b[0m\u001b[1;33m:\u001b[0m\u001b[1;33m\u001b[0m\u001b[1;33m\u001b[0m\u001b[0m\n\u001b[1;32m--> 635\u001b[1;33m                 \u001b[1;32mraise\u001b[0m \u001b[0mValueError\u001b[0m\u001b[1;33m(\u001b[0m\u001b[1;34m\"All arrays must be of the same length\"\u001b[0m\u001b[1;33m)\u001b[0m\u001b[1;33m\u001b[0m\u001b[1;33m\u001b[0m\u001b[0m\n\u001b[0m\u001b[0;32m    636\u001b[0m \u001b[1;33m\u001b[0m\u001b[0m\n\u001b[0;32m    637\u001b[0m             \u001b[1;32mif\u001b[0m \u001b[0mhave_dicts\u001b[0m\u001b[1;33m:\u001b[0m\u001b[1;33m\u001b[0m\u001b[1;33m\u001b[0m\u001b[0m\n",
      "\u001b[1;31mValueError\u001b[0m: All arrays must be of the same length"
     ]
    }
   ],
   "source": [
    "#Creating a dataframe and checking the data extracted\n",
    "amazon=pd.DataFrame({'Brand Name':brand_name,'Name of Product':product_name,'Rating':Rating,'No of Ratings':no_of_ratings,\n",
    "                     'Price':price,'Return/Exchange':returns,'Expected Delivery':delivery,'Availability':availability,\n",
    "                     'Other details':other_details,'Product URL':product_url})\n",
    "amazon\n"
   ]
  },
  {
   "cell_type": "markdown",
   "id": "f3f6bbbb",
   "metadata": {},
   "source": [
    "# 3. Write a python program to access the search bar and search button on images.google.com and scrape 100 images each for keywords ‘fruits’, ‘cars’ and ‘Machine Learning’."
   ]
  },
  {
   "cell_type": "code",
   "execution_count": 23,
   "id": "ce1e05c9",
   "metadata": {},
   "outputs": [
    {
     "name": "stderr",
     "output_type": "stream",
     "text": [
      "C:\\Users\\Sony\\AppData\\Local\\Temp/ipykernel_1372/846615061.py:2: DeprecationWarning: executable_path has been deprecated, please pass in a Service object\n",
      "  driver=webdriver.Chrome(\"C:\\\\Users\\\\Sony\\\\AppData\\\\Local\\\\Google\\\\Chrome\\\\chromedriver.exe\")  #r converts string to raw string\n"
     ]
    }
   ],
   "source": [
    "#Connect to web driver\n",
    "driver=webdriver.Chrome(\"C:\\\\Users\\\\Sony\\\\AppData\\\\Local\\\\Google\\\\Chrome\\\\chromedriver.exe\")  #r converts string to raw string\n",
    "#If not r, we can use executable_path = \"C:/path name"
   ]
  },
  {
   "cell_type": "code",
   "execution_count": 24,
   "id": "0ce489e6",
   "metadata": {},
   "outputs": [],
   "source": [
    "#Getting the website to driver\n",
    "url=('https://images.google.com/')\n",
    "driver.get(url)\n",
    "#When we run this line, automatically the webpage will be opene"
   ]
  },
  {
   "cell_type": "code",
   "execution_count": 25,
   "id": "9199e618",
   "metadata": {},
   "outputs": [],
   "source": [
    "#Defining a function which accepts image names as arguments\n",
    "def get_images(keywords):\n",
    "    driver.get(url)\n",
    "    \n",
    "    #Searching the keywords in the search bar and clicking the search button\n",
    "    search_bar=driver.find_element_by_xpath(\"//input[@class='gLFyf gsfi']\")\n",
    "    search_bar.send_keys(keywords)\n",
    "    button=driver.find_element_by_xpath(\"//button[@class='Tg7LZd']\")\n",
    "    button.click()\n",
    "    driver.implicitly_wait(1)  #Making the driver wait for 1 second\n",
    "    \n",
    "    #Taking 5 pages for each keyword and scraping the image data\n",
    "    for page in range(0,5):\n",
    "        driver.find_element_by_xpath(\"//a[@class='wXeWr islib nfEiy mM5pbd']\").send_keys(Keys.PAGE_DOWN)\n",
    "        time.sleep(2)   #Delaying the page wait time for 2 seconds\n",
    "        \n",
    "        #Iterating data for first 100 results of the keywords\n",
    "        picture=[image for image in driver.find_elements_by_xpath(\"//a[@class='wXeWr islib nfEiy mM5pbd']\")[:100]]\n",
    "        image_url=[]   #Empty list\n",
    "        print(len(picture))  \n",
    "        \n",
    "        #Iterating the tags for getting url link text of 100 results\n",
    "        if(len(picture)==100):  #Checking if the length is equal to 100\n",
    "            for i in picture:\n",
    "                try:\n",
    "                    i.click()\n",
    "                    image_url.append(i.get_attribute('href'))  #Extracting the link texts\n",
    "                except NoSuchElementException as e:\n",
    "                    image_url.append(\"Link Not Available\")  #Exception message if urls are not available\n",
    "            return image_url\n",
    "        else:\n",
    "            print(\"Image not available\")  #Message if length of data is not equal"
   ]
  },
  {
   "cell_type": "code",
   "execution_count": 26,
   "id": "a0c63612",
   "metadata": {},
   "outputs": [],
   "source": [
    "from selenium.common.exceptions import NoSuchElementException\n"
   ]
  },
  {
   "cell_type": "code",
   "execution_count": 27,
   "id": "61baec38",
   "metadata": {},
   "outputs": [
    {
     "name": "stderr",
     "output_type": "stream",
     "text": [
      "C:\\Users\\Sony\\AppData\\Local\\Temp/ipykernel_1372/2841254545.py:6: DeprecationWarning: find_element_by_xpath is deprecated. Please use find_element(by=By.XPATH, value=xpath) instead\n",
      "  search_bar=driver.find_element_by_xpath(\"//input[@class='gLFyf gsfi']\")\n",
      "C:\\Users\\Sony\\AppData\\Local\\Temp/ipykernel_1372/2841254545.py:8: DeprecationWarning: find_element_by_xpath is deprecated. Please use find_element(by=By.XPATH, value=xpath) instead\n",
      "  button=driver.find_element_by_xpath(\"//button[@class='Tg7LZd']\")\n",
      "C:\\Users\\Sony\\AppData\\Local\\Temp/ipykernel_1372/2841254545.py:14: DeprecationWarning: find_element_by_xpath is deprecated. Please use find_element(by=By.XPATH, value=xpath) instead\n",
      "  driver.find_element_by_xpath(\"//a[@class='wXeWr islib nfEiy mM5pbd']\").send_keys(Keys.PAGE_DOWN)\n"
     ]
    },
    {
     "ename": "NoSuchElementException",
     "evalue": "Message: no such element: Unable to locate element: {\"method\":\"xpath\",\"selector\":\"//a[@class='wXeWr islib nfEiy mM5pbd']\"}\n  (Session info: chrome=102.0.5005.61)\nStacktrace:\nBacktrace:\n\tOrdinal0 [0x003EB8F3+2406643]\n\tOrdinal0 [0x0037AF31+1945393]\n\tOrdinal0 [0x0026C748+837448]\n\tOrdinal0 [0x002992E0+1020640]\n\tOrdinal0 [0x0029957B+1021307]\n\tOrdinal0 [0x002C6372+1205106]\n\tOrdinal0 [0x002B42C4+1131204]\n\tOrdinal0 [0x002C4682+1197698]\n\tOrdinal0 [0x002B4096+1130646]\n\tOrdinal0 [0x0028E636+976438]\n\tOrdinal0 [0x0028F546+980294]\n\tGetHandleVerifier [0x00659612+2498066]\n\tGetHandleVerifier [0x0064C920+2445600]\n\tGetHandleVerifier [0x00484F2A+579370]\n\tGetHandleVerifier [0x00483D36+574774]\n\tOrdinal0 [0x00381C0B+1973259]\n\tOrdinal0 [0x00386688+1992328]\n\tOrdinal0 [0x00386775+1992565]\n\tOrdinal0 [0x0038F8D1+2029777]\n\tBaseThreadInitThunk [0x75BE6359+25]\n\tRtlGetAppContainerNamedObjectPath [0x777C7B74+228]\n\tRtlGetAppContainerNamedObjectPath [0x777C7B44+180]\n",
     "output_type": "error",
     "traceback": [
      "\u001b[1;31m---------------------------------------------------------------------------\u001b[0m",
      "\u001b[1;31mNoSuchElementException\u001b[0m                    Traceback (most recent call last)",
      "\u001b[1;32m~\\AppData\\Local\\Temp/ipykernel_1372/3268902601.py\u001b[0m in \u001b[0;36m<module>\u001b[1;34m\u001b[0m\n\u001b[0;32m      1\u001b[0m \u001b[1;31m#Sending the keywords for scraping the urls of images\u001b[0m\u001b[1;33m\u001b[0m\u001b[1;33m\u001b[0m\u001b[0m\n\u001b[1;32m----> 2\u001b[1;33m \u001b[0mFruits_images\u001b[0m\u001b[1;33m=\u001b[0m\u001b[0mget_images\u001b[0m\u001b[1;33m(\u001b[0m\u001b[1;34m'fruits'\u001b[0m\u001b[1;33m)\u001b[0m\u001b[1;33m\u001b[0m\u001b[1;33m\u001b[0m\u001b[0m\n\u001b[0m\u001b[0;32m      3\u001b[0m \u001b[0mCars_images\u001b[0m\u001b[1;33m=\u001b[0m\u001b[0mget_images\u001b[0m\u001b[1;33m(\u001b[0m\u001b[1;34m'cars'\u001b[0m\u001b[1;33m)\u001b[0m\u001b[1;33m\u001b[0m\u001b[1;33m\u001b[0m\u001b[0m\n\u001b[0;32m      4\u001b[0m \u001b[0mmachine_learning\u001b[0m\u001b[1;33m=\u001b[0m\u001b[0mget_images\u001b[0m\u001b[1;33m(\u001b[0m\u001b[1;34m'Machine Learning'\u001b[0m\u001b[1;33m)\u001b[0m\u001b[1;33m\u001b[0m\u001b[1;33m\u001b[0m\u001b[0m\n",
      "\u001b[1;32m~\\AppData\\Local\\Temp/ipykernel_1372/2841254545.py\u001b[0m in \u001b[0;36mget_images\u001b[1;34m(keywords)\u001b[0m\n\u001b[0;32m     12\u001b[0m     \u001b[1;31m#Taking 5 pages for each keyword and scraping the image data\u001b[0m\u001b[1;33m\u001b[0m\u001b[1;33m\u001b[0m\u001b[0m\n\u001b[0;32m     13\u001b[0m     \u001b[1;32mfor\u001b[0m \u001b[0mpage\u001b[0m \u001b[1;32min\u001b[0m \u001b[0mrange\u001b[0m\u001b[1;33m(\u001b[0m\u001b[1;36m0\u001b[0m\u001b[1;33m,\u001b[0m\u001b[1;36m5\u001b[0m\u001b[1;33m)\u001b[0m\u001b[1;33m:\u001b[0m\u001b[1;33m\u001b[0m\u001b[1;33m\u001b[0m\u001b[0m\n\u001b[1;32m---> 14\u001b[1;33m         \u001b[0mdriver\u001b[0m\u001b[1;33m.\u001b[0m\u001b[0mfind_element_by_xpath\u001b[0m\u001b[1;33m(\u001b[0m\u001b[1;34m\"//a[@class='wXeWr islib nfEiy mM5pbd']\"\u001b[0m\u001b[1;33m)\u001b[0m\u001b[1;33m.\u001b[0m\u001b[0msend_keys\u001b[0m\u001b[1;33m(\u001b[0m\u001b[0mKeys\u001b[0m\u001b[1;33m.\u001b[0m\u001b[0mPAGE_DOWN\u001b[0m\u001b[1;33m)\u001b[0m\u001b[1;33m\u001b[0m\u001b[1;33m\u001b[0m\u001b[0m\n\u001b[0m\u001b[0;32m     15\u001b[0m         \u001b[0mtime\u001b[0m\u001b[1;33m.\u001b[0m\u001b[0msleep\u001b[0m\u001b[1;33m(\u001b[0m\u001b[1;36m2\u001b[0m\u001b[1;33m)\u001b[0m   \u001b[1;31m#Delaying the page wait time for 2 seconds\u001b[0m\u001b[1;33m\u001b[0m\u001b[1;33m\u001b[0m\u001b[0m\n\u001b[0;32m     16\u001b[0m \u001b[1;33m\u001b[0m\u001b[0m\n",
      "\u001b[1;32mD:\\Anaconda\\lib\\site-packages\\selenium\\webdriver\\remote\\webdriver.py\u001b[0m in \u001b[0;36mfind_element_by_xpath\u001b[1;34m(self, xpath)\u001b[0m\n\u001b[0;32m    524\u001b[0m             \u001b[0mstacklevel\u001b[0m\u001b[1;33m=\u001b[0m\u001b[1;36m2\u001b[0m\u001b[1;33m,\u001b[0m\u001b[1;33m\u001b[0m\u001b[1;33m\u001b[0m\u001b[0m\n\u001b[0;32m    525\u001b[0m         )\n\u001b[1;32m--> 526\u001b[1;33m         \u001b[1;32mreturn\u001b[0m \u001b[0mself\u001b[0m\u001b[1;33m.\u001b[0m\u001b[0mfind_element\u001b[0m\u001b[1;33m(\u001b[0m\u001b[0mby\u001b[0m\u001b[1;33m=\u001b[0m\u001b[0mBy\u001b[0m\u001b[1;33m.\u001b[0m\u001b[0mXPATH\u001b[0m\u001b[1;33m,\u001b[0m \u001b[0mvalue\u001b[0m\u001b[1;33m=\u001b[0m\u001b[0mxpath\u001b[0m\u001b[1;33m)\u001b[0m\u001b[1;33m\u001b[0m\u001b[1;33m\u001b[0m\u001b[0m\n\u001b[0m\u001b[0;32m    527\u001b[0m \u001b[1;33m\u001b[0m\u001b[0m\n\u001b[0;32m    528\u001b[0m     \u001b[1;32mdef\u001b[0m \u001b[0mfind_elements_by_xpath\u001b[0m\u001b[1;33m(\u001b[0m\u001b[0mself\u001b[0m\u001b[1;33m,\u001b[0m \u001b[0mxpath\u001b[0m\u001b[1;33m)\u001b[0m \u001b[1;33m->\u001b[0m \u001b[0mList\u001b[0m\u001b[1;33m[\u001b[0m\u001b[0mWebElement\u001b[0m\u001b[1;33m]\u001b[0m\u001b[1;33m:\u001b[0m\u001b[1;33m\u001b[0m\u001b[1;33m\u001b[0m\u001b[0m\n",
      "\u001b[1;32mD:\\Anaconda\\lib\\site-packages\\selenium\\webdriver\\remote\\webdriver.py\u001b[0m in \u001b[0;36mfind_element\u001b[1;34m(self, by, value)\u001b[0m\n\u001b[0;32m   1249\u001b[0m             \u001b[0mvalue\u001b[0m \u001b[1;33m=\u001b[0m \u001b[1;34m'[name=\"%s\"]'\u001b[0m \u001b[1;33m%\u001b[0m \u001b[0mvalue\u001b[0m\u001b[1;33m\u001b[0m\u001b[1;33m\u001b[0m\u001b[0m\n\u001b[0;32m   1250\u001b[0m \u001b[1;33m\u001b[0m\u001b[0m\n\u001b[1;32m-> 1251\u001b[1;33m         return self.execute(Command.FIND_ELEMENT, {\n\u001b[0m\u001b[0;32m   1252\u001b[0m             \u001b[1;34m'using'\u001b[0m\u001b[1;33m:\u001b[0m \u001b[0mby\u001b[0m\u001b[1;33m,\u001b[0m\u001b[1;33m\u001b[0m\u001b[1;33m\u001b[0m\u001b[0m\n\u001b[0;32m   1253\u001b[0m             'value': value})['value']\n",
      "\u001b[1;32mD:\\Anaconda\\lib\\site-packages\\selenium\\webdriver\\remote\\webdriver.py\u001b[0m in \u001b[0;36mexecute\u001b[1;34m(self, driver_command, params)\u001b[0m\n\u001b[0;32m    428\u001b[0m         \u001b[0mresponse\u001b[0m \u001b[1;33m=\u001b[0m \u001b[0mself\u001b[0m\u001b[1;33m.\u001b[0m\u001b[0mcommand_executor\u001b[0m\u001b[1;33m.\u001b[0m\u001b[0mexecute\u001b[0m\u001b[1;33m(\u001b[0m\u001b[0mdriver_command\u001b[0m\u001b[1;33m,\u001b[0m \u001b[0mparams\u001b[0m\u001b[1;33m)\u001b[0m\u001b[1;33m\u001b[0m\u001b[1;33m\u001b[0m\u001b[0m\n\u001b[0;32m    429\u001b[0m         \u001b[1;32mif\u001b[0m \u001b[0mresponse\u001b[0m\u001b[1;33m:\u001b[0m\u001b[1;33m\u001b[0m\u001b[1;33m\u001b[0m\u001b[0m\n\u001b[1;32m--> 430\u001b[1;33m             \u001b[0mself\u001b[0m\u001b[1;33m.\u001b[0m\u001b[0merror_handler\u001b[0m\u001b[1;33m.\u001b[0m\u001b[0mcheck_response\u001b[0m\u001b[1;33m(\u001b[0m\u001b[0mresponse\u001b[0m\u001b[1;33m)\u001b[0m\u001b[1;33m\u001b[0m\u001b[1;33m\u001b[0m\u001b[0m\n\u001b[0m\u001b[0;32m    431\u001b[0m             response['value'] = self._unwrap_value(\n\u001b[0;32m    432\u001b[0m                 response.get('value', None))\n",
      "\u001b[1;32mD:\\Anaconda\\lib\\site-packages\\selenium\\webdriver\\remote\\errorhandler.py\u001b[0m in \u001b[0;36mcheck_response\u001b[1;34m(self, response)\u001b[0m\n\u001b[0;32m    245\u001b[0m                 \u001b[0malert_text\u001b[0m \u001b[1;33m=\u001b[0m \u001b[0mvalue\u001b[0m\u001b[1;33m[\u001b[0m\u001b[1;34m'alert'\u001b[0m\u001b[1;33m]\u001b[0m\u001b[1;33m.\u001b[0m\u001b[0mget\u001b[0m\u001b[1;33m(\u001b[0m\u001b[1;34m'text'\u001b[0m\u001b[1;33m)\u001b[0m\u001b[1;33m\u001b[0m\u001b[1;33m\u001b[0m\u001b[0m\n\u001b[0;32m    246\u001b[0m             \u001b[1;32mraise\u001b[0m \u001b[0mexception_class\u001b[0m\u001b[1;33m(\u001b[0m\u001b[0mmessage\u001b[0m\u001b[1;33m,\u001b[0m \u001b[0mscreen\u001b[0m\u001b[1;33m,\u001b[0m \u001b[0mstacktrace\u001b[0m\u001b[1;33m,\u001b[0m \u001b[0malert_text\u001b[0m\u001b[1;33m)\u001b[0m  \u001b[1;31m# type: ignore[call-arg]  # mypy is not smart enough here\u001b[0m\u001b[1;33m\u001b[0m\u001b[1;33m\u001b[0m\u001b[0m\n\u001b[1;32m--> 247\u001b[1;33m         \u001b[1;32mraise\u001b[0m \u001b[0mexception_class\u001b[0m\u001b[1;33m(\u001b[0m\u001b[0mmessage\u001b[0m\u001b[1;33m,\u001b[0m \u001b[0mscreen\u001b[0m\u001b[1;33m,\u001b[0m \u001b[0mstacktrace\u001b[0m\u001b[1;33m)\u001b[0m\u001b[1;33m\u001b[0m\u001b[1;33m\u001b[0m\u001b[0m\n\u001b[0m\u001b[0;32m    248\u001b[0m \u001b[1;33m\u001b[0m\u001b[0m\n\u001b[0;32m    249\u001b[0m     \u001b[1;32mdef\u001b[0m \u001b[0m_value_or_default\u001b[0m\u001b[1;33m(\u001b[0m\u001b[0mself\u001b[0m\u001b[1;33m,\u001b[0m \u001b[0mobj\u001b[0m\u001b[1;33m:\u001b[0m \u001b[0mMapping\u001b[0m\u001b[1;33m[\u001b[0m\u001b[0m_KT\u001b[0m\u001b[1;33m,\u001b[0m \u001b[0m_VT\u001b[0m\u001b[1;33m]\u001b[0m\u001b[1;33m,\u001b[0m \u001b[0mkey\u001b[0m\u001b[1;33m:\u001b[0m \u001b[0m_KT\u001b[0m\u001b[1;33m,\u001b[0m \u001b[0mdefault\u001b[0m\u001b[1;33m:\u001b[0m \u001b[0m_VT\u001b[0m\u001b[1;33m)\u001b[0m \u001b[1;33m->\u001b[0m \u001b[0m_VT\u001b[0m\u001b[1;33m:\u001b[0m\u001b[1;33m\u001b[0m\u001b[1;33m\u001b[0m\u001b[0m\n",
      "\u001b[1;31mNoSuchElementException\u001b[0m: Message: no such element: Unable to locate element: {\"method\":\"xpath\",\"selector\":\"//a[@class='wXeWr islib nfEiy mM5pbd']\"}\n  (Session info: chrome=102.0.5005.61)\nStacktrace:\nBacktrace:\n\tOrdinal0 [0x003EB8F3+2406643]\n\tOrdinal0 [0x0037AF31+1945393]\n\tOrdinal0 [0x0026C748+837448]\n\tOrdinal0 [0x002992E0+1020640]\n\tOrdinal0 [0x0029957B+1021307]\n\tOrdinal0 [0x002C6372+1205106]\n\tOrdinal0 [0x002B42C4+1131204]\n\tOrdinal0 [0x002C4682+1197698]\n\tOrdinal0 [0x002B4096+1130646]\n\tOrdinal0 [0x0028E636+976438]\n\tOrdinal0 [0x0028F546+980294]\n\tGetHandleVerifier [0x00659612+2498066]\n\tGetHandleVerifier [0x0064C920+2445600]\n\tGetHandleVerifier [0x00484F2A+579370]\n\tGetHandleVerifier [0x00483D36+574774]\n\tOrdinal0 [0x00381C0B+1973259]\n\tOrdinal0 [0x00386688+1992328]\n\tOrdinal0 [0x00386775+1992565]\n\tOrdinal0 [0x0038F8D1+2029777]\n\tBaseThreadInitThunk [0x75BE6359+25]\n\tRtlGetAppContainerNamedObjectPath [0x777C7B74+228]\n\tRtlGetAppContainerNamedObjectPath [0x777C7B44+180]\n"
     ]
    }
   ],
   "source": [
    "#Sending the keywords for scraping the urls of images\n",
    "Fruits_images=get_images('fruits')\n",
    "Cars_images=get_images('cars')\n",
    "machine_learning=get_images('Machine Learning')"
   ]
  },
  {
   "cell_type": "code",
   "execution_count": 28,
   "id": "65c8aa59",
   "metadata": {},
   "outputs": [
    {
     "ename": "SyntaxError",
     "evalue": "cannot assign to literal (Temp/ipykernel_1372/3415218653.py, line 3)",
     "output_type": "error",
     "traceback": [
      "\u001b[1;36m  File \u001b[1;32m\"C:\\Users\\Sony\\AppData\\Local\\Temp/ipykernel_1372/3415218653.py\"\u001b[1;36m, line \u001b[1;32m3\u001b[0m\n\u001b[1;33m    Image_URL=['Fruits']=Fruits_images\u001b[0m\n\u001b[1;37m               ^\u001b[0m\n\u001b[1;31mSyntaxError\u001b[0m\u001b[1;31m:\u001b[0m cannot assign to literal\n"
     ]
    }
   ],
   "source": [
    "#Create a DataFrame for our data extracted\n",
    "Image_URL=pd.DataFrame({})\n",
    "Image_URL=['Fruits']=Fruits_images\n",
    "Image_URL=['Cars']=Cars_images\n",
    "Image_URL=['Machine Learning']=machine_learning\n",
    "\n",
    "#Checking the dataframe\n",
    "Image_URL"
   ]
  },
  {
   "cell_type": "code",
   "execution_count": 29,
   "id": "19745e4b",
   "metadata": {},
   "outputs": [
    {
     "ename": "NameError",
     "evalue": "name 'Fruits_images' is not defined",
     "output_type": "error",
     "traceback": [
      "\u001b[1;31m---------------------------------------------------------------------------\u001b[0m",
      "\u001b[1;31mNameError\u001b[0m                                 Traceback (most recent call last)",
      "\u001b[1;32m~\\AppData\\Local\\Temp/ipykernel_1372/1373975731.py\u001b[0m in \u001b[0;36m<module>\u001b[1;34m\u001b[0m\n\u001b[0;32m      1\u001b[0m \u001b[1;31m#Create a DataFrame for our data extracted\u001b[0m\u001b[1;33m\u001b[0m\u001b[1;33m\u001b[0m\u001b[0m\n\u001b[0;32m      2\u001b[0m \u001b[0mImage_URL\u001b[0m\u001b[1;33m=\u001b[0m\u001b[0mpd\u001b[0m\u001b[1;33m.\u001b[0m\u001b[0mDataFrame\u001b[0m\u001b[1;33m(\u001b[0m\u001b[1;33m{\u001b[0m\u001b[1;33m}\u001b[0m\u001b[1;33m)\u001b[0m\u001b[1;33m\u001b[0m\u001b[1;33m\u001b[0m\u001b[0m\n\u001b[1;32m----> 3\u001b[1;33m \u001b[0mImage_URL\u001b[0m\u001b[1;33m[\u001b[0m\u001b[1;34m'Fruits'\u001b[0m\u001b[1;33m]\u001b[0m\u001b[1;33m=\u001b[0m\u001b[0mFruits_images\u001b[0m\u001b[1;33m\u001b[0m\u001b[1;33m\u001b[0m\u001b[0m\n\u001b[0m\u001b[0;32m      4\u001b[0m \u001b[0mImage_URL\u001b[0m\u001b[1;33m[\u001b[0m\u001b[1;34m'Cars'\u001b[0m\u001b[1;33m]\u001b[0m\u001b[1;33m=\u001b[0m\u001b[0mCars_images\u001b[0m\u001b[1;33m\u001b[0m\u001b[1;33m\u001b[0m\u001b[0m\n\u001b[0;32m      5\u001b[0m \u001b[0mImage_URL\u001b[0m\u001b[1;33m[\u001b[0m\u001b[1;34m'Machine Learning'\u001b[0m\u001b[1;33m]\u001b[0m\u001b[1;33m=\u001b[0m\u001b[0mmachine_learning\u001b[0m\u001b[1;33m\u001b[0m\u001b[1;33m\u001b[0m\u001b[0m\n",
      "\u001b[1;31mNameError\u001b[0m: name 'Fruits_images' is not defined"
     ]
    }
   ],
   "source": [
    "#Create a DataFrame for our data extracted\n",
    "Image_URL=pd.DataFrame({})\n",
    "Image_URL['Fruits']=Fruits_images\n",
    "Image_URL['Cars']=Cars_images\n",
    "Image_URL['Machine Learning']=machine_learning\n",
    "\n",
    "#Checking the dataframe\n",
    "Image_URL"
   ]
  },
  {
   "cell_type": "markdown",
   "id": "cbedbe08",
   "metadata": {},
   "source": [
    "# 4. Write a python program to search for a smartphone(e.g.: Oneplus Nord, pixel 4A, etc.) on www.flipkart.com and scrape following details for all the search results displayed on 1st page. Details to be scraped: “Brand Name”, “Smartphone name”, “Colour”, “RAM”, “Storage(ROM)”, “Primary Camera”, “Secondary Camera”, “Display Size”, “Display Resolution”, “Processor”, “Processor Cores”, “Battery Capacity”, “Price”, “Product URL”. Incase if any of the details is missing then replace it by “- “. Save your results in a dataframe and CSV."
   ]
  },
  {
   "cell_type": "code",
   "execution_count": 5,
   "id": "88bd83a6",
   "metadata": {},
   "outputs": [],
   "source": [
    "from selenium.common.exceptions import NoSuchElementException\n"
   ]
  },
  {
   "cell_type": "code",
   "execution_count": 13,
   "id": "938ddd36",
   "metadata": {},
   "outputs": [],
   "source": [
    "import selenium"
   ]
  },
  {
   "cell_type": "code",
   "execution_count": 14,
   "id": "cb2237f0",
   "metadata": {},
   "outputs": [],
   "source": [
    "from selenium import webdriver"
   ]
  },
  {
   "cell_type": "code",
   "execution_count": 15,
   "id": "c5c122a5",
   "metadata": {},
   "outputs": [
    {
     "name": "stderr",
     "output_type": "stream",
     "text": [
      "C:\\Users\\Sony\\AppData\\Local\\Temp/ipykernel_1708/2372367619.py:2: DeprecationWarning: executable_path has been deprecated, please pass in a Service object\n",
      "  driver=webdriver.Chrome(\"C:\\\\Users\\\\Sony\\\\AppData\\\\Local\\\\Google\\\\Chrome\\\\chromedriver.exe\")  #r converts string to raw string\n"
     ]
    }
   ],
   "source": [
    "#Connect to web driver\n",
    "driver=webdriver.Chrome(\"C:\\\\Users\\\\Sony\\\\AppData\\\\Local\\\\Google\\\\Chrome\\\\chromedriver.exe\")  #r converts string to raw string\n",
    "#If not r, we can use executable_path = \"C:/path name\""
   ]
  },
  {
   "cell_type": "code",
   "execution_count": 16,
   "id": "6ba7f093",
   "metadata": {},
   "outputs": [],
   "source": [
    "#Getting the website to driver\n",
    "driver.get('https://www.flipkart.com/')\n",
    "\n",
    "#When we run this line, automatically the webpage will be opened"
   ]
  },
  {
   "cell_type": "code",
   "execution_count": 18,
   "id": "55399b21",
   "metadata": {},
   "outputs": [
    {
     "name": "stderr",
     "output_type": "stream",
     "text": [
      "C:\\Users\\Sony\\AppData\\Local\\Temp/ipykernel_1708/865309978.py:2: DeprecationWarning: find_element_by_xpath is deprecated. Please use find_element(by=By.XPATH, value=xpath) instead\n",
      "  search_bar=driver.find_element_by_xpath(\"//input[@type='text']\")\n",
      "C:\\Users\\Sony\\AppData\\Local\\Temp/ipykernel_1708/865309978.py:4: DeprecationWarning: find_element_by_xpath is deprecated. Please use find_element(by=By.XPATH, value=xpath) instead\n",
      "  driver.find_element_by_xpath(\"//button[@type='submit']\")  #Clicking the search button\n"
     ]
    },
    {
     "data": {
      "text/plain": [
       "<selenium.webdriver.remote.webelement.WebElement (session=\"71adf43aad916cc0da18a4287a73ebab\", element=\"e9e3b754-4fa7-442c-a949-c40fd66f2b05\")>"
      ]
     },
     "execution_count": 18,
     "metadata": {},
     "output_type": "execute_result"
    }
   ],
   "source": [
    "#Searching smartphone in the search bar and clicking the search button\n",
    "search_bar=driver.find_element_by_xpath(\"//input[@type='text']\")\n",
    "search_bar.send_keys('oppo')  #The smartphone name to be searched\n",
    "driver.find_element_by_xpath(\"//button[@type='submit']\")  #Clicking the search button"
   ]
  },
  {
   "cell_type": "code",
   "execution_count": 19,
   "id": "e91813d6",
   "metadata": {},
   "outputs": [],
   "source": [
    "#Specifying the url of the webpage to be scraped\n",
    "url=\"https://www.flipkart.com/search?q=oppo&otracker=search&otracker1=search&marketplace=FLIPKART&as-show=on&as=off\"\n",
    "driver.get(url)"
   ]
  },
  {
   "cell_type": "code",
   "execution_count": 20,
   "id": "758f164d",
   "metadata": {},
   "outputs": [],
   "source": [
    "#Empty lists to store the scraped data\n",
    "product_urls=[]\n",
    "brand_name=[]\n",
    "phone_name=[]\n",
    "phone_color=[]\n",
    "RAM=[]\n",
    "ROM=[]\n",
    "p_cam=[]\n",
    "s_cam=[]\n",
    "d_size=[]\n",
    "d_resolution=[]\n",
    "processor=[]\n",
    "processor_core=[]\n",
    "battery=[]\n",
    "price=[]"
   ]
  },
  {
   "cell_type": "code",
   "execution_count": 21,
   "id": "039c38ca",
   "metadata": {},
   "outputs": [
    {
     "name": "stderr",
     "output_type": "stream",
     "text": [
      "C:\\Users\\Sony\\AppData\\Local\\Temp/ipykernel_1708/3503753655.py:2: DeprecationWarning: find_elements_by_xpath is deprecated. Please use find_elements(by=By.XPATH, value=xpath) instead\n",
      "  urls=driver.find_elements_by_xpath(\"//a[@class='_1fQZEK']\")\n"
     ]
    }
   ],
   "source": [
    "#Defining the url link of each smartphone for scraping the specifications details\n",
    "urls=driver.find_elements_by_xpath(\"//a[@class='_1fQZEK']\")\n"
   ]
  },
  {
   "cell_type": "code",
   "execution_count": 22,
   "id": "f6c52902",
   "metadata": {},
   "outputs": [
    {
     "name": "stderr",
     "output_type": "stream",
     "text": [
      "C:\\Users\\Sony\\AppData\\Local\\Temp/ipykernel_1708/3503753655.py:2: DeprecationWarning: find_elements_by_xpath is deprecated. Please use find_elements(by=By.XPATH, value=xpath) instead\n",
      "  urls=driver.find_elements_by_xpath(\"//a[@class='_1fQZEK']\")\n"
     ]
    }
   ],
   "source": [
    "#Defining the url link of each smartphone for scraping the specifications details\n",
    "urls=driver.find_elements_by_xpath(\"//a[@class='_1fQZEK']\")\n"
   ]
  },
  {
   "cell_type": "code",
   "execution_count": 23,
   "id": "1f660c55",
   "metadata": {},
   "outputs": [],
   "source": [
    "for i in product_urls:\n",
    "    driver.get(i)\n",
    "    \n",
    "    #Button for expanding the specifications\n",
    "    driver.find_element_by_xpath(\"//button[@class='_2KpZ6l _1FH0tX']\").click()"
   ]
  },
  {
   "cell_type": "code",
   "execution_count": 24,
   "id": "69e4ba3b",
   "metadata": {},
   "outputs": [
    {
     "name": "stderr",
     "output_type": "stream",
     "text": [
      "C:\\Users\\Sony\\AppData\\Local\\Temp/ipykernel_1708/1264234916.py:3: DeprecationWarning: find_element_by_xpath is deprecated. Please use find_element(by=By.XPATH, value=xpath) instead\n",
      "  brand=driver.find_element_by_xpath(\"//span[@class='B_NuCI']\").text.split()\n"
     ]
    }
   ],
   "source": [
    "#Extracting the brand name\n",
    "try:\n",
    "    brand=driver.find_element_by_xpath(\"//span[@class='B_NuCI']\").text.split()\n",
    "    brand_name.append(brand[0])\n",
    "except NoSuchElementException as e:\n",
    "    brand_name.append('-')"
   ]
  },
  {
   "cell_type": "code",
   "execution_count": 25,
   "id": "febbfdd8",
   "metadata": {},
   "outputs": [
    {
     "name": "stderr",
     "output_type": "stream",
     "text": [
      "C:\\Users\\Sony\\AppData\\Local\\Temp/ipykernel_1708/2471006806.py:3: DeprecationWarning: find_element_by_xpath is deprecated. Please use find_element(by=By.XPATH, value=xpath) instead\n",
      "  phone=driver.find_element_by_xpath(\"//div[@class='_1UhVsV']/div[1]/table/tbody/tr[3]/td[2]\")\n"
     ]
    }
   ],
   "source": [
    "    #Extracting the smartphone name\n",
    "    try:\n",
    "        phone=driver.find_element_by_xpath(\"//div[@class='_1UhVsV']/div[1]/table/tbody/tr[3]/td[2]\")\n",
    "        phone_name.append(phone.text)\n",
    "    except NoSuchElementException as e:\n",
    "        phone_name.append('-')  "
   ]
  },
  {
   "cell_type": "code",
   "execution_count": 26,
   "id": "fb73bb20",
   "metadata": {},
   "outputs": [
    {
     "name": "stderr",
     "output_type": "stream",
     "text": [
      "C:\\Users\\Sony\\AppData\\Local\\Temp/ipykernel_1708/2038886580.py:3: DeprecationWarning: find_element_by_xpath is deprecated. Please use find_element(by=By.XPATH, value=xpath) instead\n",
      "  color=driver.find_element_by_xpath(\"//div[@class='_1UhVsV']/div[1]/table/tbody/tr[4]/td[2]\")\n"
     ]
    }
   ],
   "source": [
    "    #Extracting the phone color\n",
    "    try:\n",
    "        color=driver.find_element_by_xpath(\"//div[@class='_1UhVsV']/div[1]/table/tbody/tr[4]/td[2]\")\n",
    "        phone_color.append(color.text)\n",
    "    except NoSuchElementException as e:\n",
    "        phone_color.append('-') "
   ]
  },
  {
   "cell_type": "code",
   "execution_count": 27,
   "id": "781c5180",
   "metadata": {},
   "outputs": [
    {
     "name": "stderr",
     "output_type": "stream",
     "text": [
      "C:\\Users\\Sony\\AppData\\Local\\Temp/ipykernel_1708/2397312025.py:3: DeprecationWarning: find_element_by_xpath is deprecated. Please use find_element(by=By.XPATH, value=xpath) instead\n",
      "  RAM.append(driver.find_element_by_xpath('//div[@class=\"_1UhVsV\"]/div[4]/table/tbody/tr[2]/td[2]').text)\n"
     ]
    }
   ],
   "source": [
    "    #Extracting RAM details\n",
    "    try:\n",
    "        RAM.append(driver.find_element_by_xpath('//div[@class=\"_1UhVsV\"]/div[4]/table/tbody/tr[2]/td[2]').text)\n",
    "    except NoSuchElementException as e:\n",
    "        RAM.append('-') "
   ]
  },
  {
   "cell_type": "code",
   "execution_count": 28,
   "id": "082f1d70",
   "metadata": {},
   "outputs": [
    {
     "name": "stderr",
     "output_type": "stream",
     "text": [
      "C:\\Users\\Sony\\AppData\\Local\\Temp/ipykernel_1708/1961818085.py:3: DeprecationWarning: find_element_by_xpath is deprecated. Please use find_element(by=By.XPATH, value=xpath) instead\n",
      "  ROM.append(driver.find_element_by_xpath('//div[@class=\"_1UhVsV\"]/div[4]/table/tbody/tr[1]/td[2]').text)\n"
     ]
    }
   ],
   "source": [
    "    #Extracting ROM details\n",
    "    try:\n",
    "        ROM.append(driver.find_element_by_xpath('//div[@class=\"_1UhVsV\"]/div[4]/table/tbody/tr[1]/td[2]').text)\n",
    "    except NoSuchElementException as e:\n",
    "        ROM.append('-')"
   ]
  },
  {
   "cell_type": "code",
   "execution_count": 29,
   "id": "c7c135d0",
   "metadata": {},
   "outputs": [
    {
     "name": "stderr",
     "output_type": "stream",
     "text": [
      "C:\\Users\\Sony\\AppData\\Local\\Temp/ipykernel_1708/3146184469.py:3: DeprecationWarning: find_element_by_xpath is deprecated. Please use find_element(by=By.XPATH, value=xpath) instead\n",
      "  p_cam.append(driver.find_element_by_xpath('//div[@class=\"_1UhVsV\"]/div[5]/table/tbody/tr[2]/td[2]').text)\n"
     ]
    }
   ],
   "source": [
    "    #Extracting primary camera details\n",
    "    try:\n",
    "        p_cam.append(driver.find_element_by_xpath('//div[@class=\"_1UhVsV\"]/div[5]/table/tbody/tr[2]/td[2]').text)\n",
    "    except NoSuchElementException as e:\n",
    "        p_cam.append('-')"
   ]
  },
  {
   "cell_type": "code",
   "execution_count": 30,
   "id": "aad26043",
   "metadata": {},
   "outputs": [
    {
     "name": "stderr",
     "output_type": "stream",
     "text": [
      "C:\\Users\\Sony\\AppData\\Local\\Temp/ipykernel_1708/3475288378.py:3: DeprecationWarning: find_element_by_xpath is deprecated. Please use find_element(by=By.XPATH, value=xpath) instead\n",
      "  s_cam.append(driver.find_element_by_xpath('//div[@class=\"_1UhVsV\"]/div[5]/table/tbody/tr[5]/td[2]').text)\n"
     ]
    }
   ],
   "source": [
    "    #Extracting secondary camera details\n",
    "    try:\n",
    "        s_cam.append(driver.find_element_by_xpath('//div[@class=\"_1UhVsV\"]/div[5]/table/tbody/tr[5]/td[2]').text)\n",
    "    except NoSuchElementException as e:\n",
    "        s_cam.append('-')"
   ]
  },
  {
   "cell_type": "code",
   "execution_count": 31,
   "id": "b825d357",
   "metadata": {},
   "outputs": [
    {
     "name": "stderr",
     "output_type": "stream",
     "text": [
      "C:\\Users\\Sony\\AppData\\Local\\Temp/ipykernel_1708/444359619.py:3: DeprecationWarning: find_element_by_xpath is deprecated. Please use find_element(by=By.XPATH, value=xpath) instead\n",
      "  d_size.append(driver.find_element_by_xpath('//div[@class=\"_1UhVsV\"]/div[2]/table/tbody/tr[1]/td[2]').text)\n"
     ]
    }
   ],
   "source": [
    "    #Extracting display size details\n",
    "    try:\n",
    "        d_size.append(driver.find_element_by_xpath('//div[@class=\"_1UhVsV\"]/div[2]/table/tbody/tr[1]/td[2]').text)\n",
    "    except NoSuchElementException as e:\n",
    "        d_size.append('-')"
   ]
  },
  {
   "cell_type": "code",
   "execution_count": 32,
   "id": "159a2655",
   "metadata": {},
   "outputs": [
    {
     "name": "stderr",
     "output_type": "stream",
     "text": [
      "C:\\Users\\Sony\\AppData\\Local\\Temp/ipykernel_1708/144226586.py:3: DeprecationWarning: find_element_by_xpath is deprecated. Please use find_element(by=By.XPATH, value=xpath) instead\n",
      "  d_resolution.append(driver.find_element_by_xpath('//div[@class=\"_1UhVsV\"]/div[2]/table/tbody/tr[2]/td[2]').text)\n"
     ]
    }
   ],
   "source": [
    "    #Extracting display resolution details\n",
    "    try:\n",
    "        d_resolution.append(driver.find_element_by_xpath('//div[@class=\"_1UhVsV\"]/div[2]/table/tbody/tr[2]/td[2]').text)\n",
    "    except NoSuchElementException as e:\n",
    "        d_resolution.append('-')"
   ]
  },
  {
   "cell_type": "code",
   "execution_count": 33,
   "id": "c9c7a842",
   "metadata": {},
   "outputs": [
    {
     "name": "stderr",
     "output_type": "stream",
     "text": [
      "C:\\Users\\Sony\\AppData\\Local\\Temp/ipykernel_1708/18667250.py:3: DeprecationWarning: find_element_by_xpath is deprecated. Please use find_element(by=By.XPATH, value=xpath) instead\n",
      "  processor.append(driver.find_element_by_xpath('//div[@class=\"_1UhVsV\"]/div[3]/table/tbody/tr[2]/td[2]').text)\n"
     ]
    }
   ],
   "source": [
    "    #Extracting Processor details\n",
    "    try:\n",
    "        processor.append(driver.find_element_by_xpath('//div[@class=\"_1UhVsV\"]/div[3]/table/tbody/tr[2]/td[2]').text)\n",
    "    except NoSuchElementException as e:\n",
    "        processor.append('-')"
   ]
  },
  {
   "cell_type": "code",
   "execution_count": 34,
   "id": "f250a771",
   "metadata": {},
   "outputs": [
    {
     "name": "stderr",
     "output_type": "stream",
     "text": [
      "C:\\Users\\Sony\\AppData\\Local\\Temp/ipykernel_1708/326093977.py:3: DeprecationWarning: find_element_by_xpath is deprecated. Please use find_element(by=By.XPATH, value=xpath) instead\n",
      "  processor_core.append(driver.find_element_by_xpath('//div[@class=\"_1UhVsV\"]/div[3]/table/tbody/tr[3]/td[2]').text)\n"
     ]
    }
   ],
   "source": [
    "    #Extracting processor core details\n",
    "    try:\n",
    "        processor_core.append(driver.find_element_by_xpath('//div[@class=\"_1UhVsV\"]/div[3]/table/tbody/tr[3]/td[2]').text)\n",
    "    except NoSuchElementException as e: \n",
    "        processor_core.append('-')"
   ]
  },
  {
   "cell_type": "code",
   "execution_count": 35,
   "id": "1c77fe7f",
   "metadata": {},
   "outputs": [
    {
     "name": "stderr",
     "output_type": "stream",
     "text": [
      "C:\\Users\\Sony\\AppData\\Local\\Temp/ipykernel_1708/562392057.py:3: DeprecationWarning: find_element_by_xpath is deprecated. Please use find_element(by=By.XPATH, value=xpath) instead\n",
      "  battery.append(driver.find_element_by_xpath('//div[@class=\"_1UhVsV\"]/div[10]/table/tbody/tr[1]/td[2]').text)\n"
     ]
    }
   ],
   "source": [
    "    #Extracting battery details\n",
    "    try:\n",
    "        battery.append(driver.find_element_by_xpath('//div[@class=\"_1UhVsV\"]/div[10]/table/tbody/tr[1]/td[2]').text)\n",
    "    except NoSuchElementException as e:\n",
    "        battery.append('-')"
   ]
  },
  {
   "cell_type": "code",
   "execution_count": 36,
   "id": "e05617f3",
   "metadata": {},
   "outputs": [
    {
     "name": "stderr",
     "output_type": "stream",
     "text": [
      "C:\\Users\\Sony\\AppData\\Local\\Temp/ipykernel_1708/2069059075.py:3: DeprecationWarning: find_element_by_xpath is deprecated. Please use find_element(by=By.XPATH, value=xpath) instead\n",
      "  price.append(driver.find_element_by_xpath('//div[@class=\"dyC4hf\"]/div/div/div').text)\n"
     ]
    }
   ],
   "source": [
    "    #Extracting price details\n",
    "    try:\n",
    "        price.append(driver.find_element_by_xpath('//div[@class=\"dyC4hf\"]/div/div/div').text)\n",
    "    except NoSuchElementException as e:\n",
    "        price.append('-')"
   ]
  },
  {
   "cell_type": "code",
   "execution_count": 38,
   "id": "0b959ba3",
   "metadata": {},
   "outputs": [],
   "source": [
    "import pandas as pd    "
   ]
  },
  {
   "cell_type": "code",
   "execution_count": 46,
   "id": "70fd7fca",
   "metadata": {},
   "outputs": [
    {
     "ename": "ValueError",
     "evalue": "Length of values (0) does not match length of index (1)",
     "output_type": "error",
     "traceback": [
      "\u001b[1;31m---------------------------------------------------------------------------\u001b[0m",
      "\u001b[1;31mValueError\u001b[0m                                Traceback (most recent call last)",
      "\u001b[1;32m~\\AppData\\Local\\Temp/ipykernel_1708/3104796038.py\u001b[0m in \u001b[0;36m<module>\u001b[1;34m\u001b[0m\n\u001b[0;32m     14\u001b[0m \u001b[0mflipkart\u001b[0m\u001b[1;33m[\u001b[0m\u001b[1;34m'Battery Capacity'\u001b[0m\u001b[1;33m]\u001b[0m\u001b[1;33m=\u001b[0m\u001b[0mbattery\u001b[0m\u001b[1;33m\u001b[0m\u001b[1;33m\u001b[0m\u001b[0m\n\u001b[0;32m     15\u001b[0m \u001b[0mflipkart\u001b[0m\u001b[1;33m[\u001b[0m\u001b[1;34m'Price'\u001b[0m\u001b[1;33m]\u001b[0m\u001b[1;33m=\u001b[0m\u001b[0mprice\u001b[0m\u001b[1;33m\u001b[0m\u001b[1;33m\u001b[0m\u001b[0m\n\u001b[1;32m---> 16\u001b[1;33m \u001b[0mflipkart\u001b[0m\u001b[1;33m[\u001b[0m\u001b[1;34m'Product URL'\u001b[0m\u001b[1;33m]\u001b[0m\u001b[1;33m=\u001b[0m\u001b[0mproduct_urls\u001b[0m\u001b[1;33m\u001b[0m\u001b[1;33m\u001b[0m\u001b[0m\n\u001b[0m",
      "\u001b[1;32mD:\\Anaconda\\lib\\site-packages\\pandas\\core\\frame.py\u001b[0m in \u001b[0;36m__setitem__\u001b[1;34m(self, key, value)\u001b[0m\n\u001b[0;32m   3610\u001b[0m         \u001b[1;32melse\u001b[0m\u001b[1;33m:\u001b[0m\u001b[1;33m\u001b[0m\u001b[1;33m\u001b[0m\u001b[0m\n\u001b[0;32m   3611\u001b[0m             \u001b[1;31m# set column\u001b[0m\u001b[1;33m\u001b[0m\u001b[1;33m\u001b[0m\u001b[0m\n\u001b[1;32m-> 3612\u001b[1;33m             \u001b[0mself\u001b[0m\u001b[1;33m.\u001b[0m\u001b[0m_set_item\u001b[0m\u001b[1;33m(\u001b[0m\u001b[0mkey\u001b[0m\u001b[1;33m,\u001b[0m \u001b[0mvalue\u001b[0m\u001b[1;33m)\u001b[0m\u001b[1;33m\u001b[0m\u001b[1;33m\u001b[0m\u001b[0m\n\u001b[0m\u001b[0;32m   3613\u001b[0m \u001b[1;33m\u001b[0m\u001b[0m\n\u001b[0;32m   3614\u001b[0m     \u001b[1;32mdef\u001b[0m \u001b[0m_setitem_slice\u001b[0m\u001b[1;33m(\u001b[0m\u001b[0mself\u001b[0m\u001b[1;33m,\u001b[0m \u001b[0mkey\u001b[0m\u001b[1;33m:\u001b[0m \u001b[0mslice\u001b[0m\u001b[1;33m,\u001b[0m \u001b[0mvalue\u001b[0m\u001b[1;33m)\u001b[0m\u001b[1;33m:\u001b[0m\u001b[1;33m\u001b[0m\u001b[1;33m\u001b[0m\u001b[0m\n",
      "\u001b[1;32mD:\\Anaconda\\lib\\site-packages\\pandas\\core\\frame.py\u001b[0m in \u001b[0;36m_set_item\u001b[1;34m(self, key, value)\u001b[0m\n\u001b[0;32m   3782\u001b[0m         \u001b[0mensure\u001b[0m \u001b[0mhomogeneity\u001b[0m\u001b[1;33m.\u001b[0m\u001b[1;33m\u001b[0m\u001b[1;33m\u001b[0m\u001b[0m\n\u001b[0;32m   3783\u001b[0m         \"\"\"\n\u001b[1;32m-> 3784\u001b[1;33m         \u001b[0mvalue\u001b[0m \u001b[1;33m=\u001b[0m \u001b[0mself\u001b[0m\u001b[1;33m.\u001b[0m\u001b[0m_sanitize_column\u001b[0m\u001b[1;33m(\u001b[0m\u001b[0mvalue\u001b[0m\u001b[1;33m)\u001b[0m\u001b[1;33m\u001b[0m\u001b[1;33m\u001b[0m\u001b[0m\n\u001b[0m\u001b[0;32m   3785\u001b[0m \u001b[1;33m\u001b[0m\u001b[0m\n\u001b[0;32m   3786\u001b[0m         if (\n",
      "\u001b[1;32mD:\\Anaconda\\lib\\site-packages\\pandas\\core\\frame.py\u001b[0m in \u001b[0;36m_sanitize_column\u001b[1;34m(self, value)\u001b[0m\n\u001b[0;32m   4507\u001b[0m \u001b[1;33m\u001b[0m\u001b[0m\n\u001b[0;32m   4508\u001b[0m         \u001b[1;32mif\u001b[0m \u001b[0mis_list_like\u001b[0m\u001b[1;33m(\u001b[0m\u001b[0mvalue\u001b[0m\u001b[1;33m)\u001b[0m\u001b[1;33m:\u001b[0m\u001b[1;33m\u001b[0m\u001b[1;33m\u001b[0m\u001b[0m\n\u001b[1;32m-> 4509\u001b[1;33m             \u001b[0mcom\u001b[0m\u001b[1;33m.\u001b[0m\u001b[0mrequire_length_match\u001b[0m\u001b[1;33m(\u001b[0m\u001b[0mvalue\u001b[0m\u001b[1;33m,\u001b[0m \u001b[0mself\u001b[0m\u001b[1;33m.\u001b[0m\u001b[0mindex\u001b[0m\u001b[1;33m)\u001b[0m\u001b[1;33m\u001b[0m\u001b[1;33m\u001b[0m\u001b[0m\n\u001b[0m\u001b[0;32m   4510\u001b[0m         \u001b[1;32mreturn\u001b[0m \u001b[0msanitize_array\u001b[0m\u001b[1;33m(\u001b[0m\u001b[0mvalue\u001b[0m\u001b[1;33m,\u001b[0m \u001b[0mself\u001b[0m\u001b[1;33m.\u001b[0m\u001b[0mindex\u001b[0m\u001b[1;33m,\u001b[0m \u001b[0mcopy\u001b[0m\u001b[1;33m=\u001b[0m\u001b[1;32mTrue\u001b[0m\u001b[1;33m,\u001b[0m \u001b[0mallow_2d\u001b[0m\u001b[1;33m=\u001b[0m\u001b[1;32mTrue\u001b[0m\u001b[1;33m)\u001b[0m\u001b[1;33m\u001b[0m\u001b[1;33m\u001b[0m\u001b[0m\n\u001b[0;32m   4511\u001b[0m \u001b[1;33m\u001b[0m\u001b[0m\n",
      "\u001b[1;32mD:\\Anaconda\\lib\\site-packages\\pandas\\core\\common.py\u001b[0m in \u001b[0;36mrequire_length_match\u001b[1;34m(data, index)\u001b[0m\n\u001b[0;32m    529\u001b[0m     \"\"\"\n\u001b[0;32m    530\u001b[0m     \u001b[1;32mif\u001b[0m \u001b[0mlen\u001b[0m\u001b[1;33m(\u001b[0m\u001b[0mdata\u001b[0m\u001b[1;33m)\u001b[0m \u001b[1;33m!=\u001b[0m \u001b[0mlen\u001b[0m\u001b[1;33m(\u001b[0m\u001b[0mindex\u001b[0m\u001b[1;33m)\u001b[0m\u001b[1;33m:\u001b[0m\u001b[1;33m\u001b[0m\u001b[1;33m\u001b[0m\u001b[0m\n\u001b[1;32m--> 531\u001b[1;33m         raise ValueError(\n\u001b[0m\u001b[0;32m    532\u001b[0m             \u001b[1;34m\"Length of values \"\u001b[0m\u001b[1;33m\u001b[0m\u001b[1;33m\u001b[0m\u001b[0m\n\u001b[0;32m    533\u001b[0m             \u001b[1;34mf\"({len(data)}) \"\u001b[0m\u001b[1;33m\u001b[0m\u001b[1;33m\u001b[0m\u001b[0m\n",
      "\u001b[1;31mValueError\u001b[0m: Length of values (0) does not match length of index (1)"
     ]
    }
   ],
   "source": [
    "#Create a DataFrame for our data\n",
    "flipkart=pd.DataFrame({})\n",
    "flipkart['Brand']=brand_name\n",
    "flipkart['Phone Name']=phone_name\n",
    "flipkart['Color']=phone_color\n",
    "flipkart['RAM']=RAM\n",
    "flipkart['Storage (ROM)']=ROM\n",
    "flipkart['Primary Camera']=p_cam\n",
    "flipkart['Secondary Camera']=s_cam\n",
    "flipkart['Display Size']=d_size\n",
    "flipkart['Display Resolution']=d_resolution\n",
    "flipkart['Processor']=processor\n",
    "flipkart['Processor Core']=processor_core\n",
    "flipkart['Battery Capacity']=battery\n",
    "flipkart['Price']=price\n",
    "flipkart['Product URL']=product_urls\n"
   ]
  },
  {
   "cell_type": "code",
   "execution_count": 47,
   "id": "cad4f6ab",
   "metadata": {},
   "outputs": [
    {
     "data": {
      "text/html": [
       "<div>\n",
       "<style scoped>\n",
       "    .dataframe tbody tr th:only-of-type {\n",
       "        vertical-align: middle;\n",
       "    }\n",
       "\n",
       "    .dataframe tbody tr th {\n",
       "        vertical-align: top;\n",
       "    }\n",
       "\n",
       "    .dataframe thead th {\n",
       "        text-align: right;\n",
       "    }\n",
       "</style>\n",
       "<table border=\"1\" class=\"dataframe\">\n",
       "  <thead>\n",
       "    <tr style=\"text-align: right;\">\n",
       "      <th></th>\n",
       "      <th>Brand</th>\n",
       "      <th>Phone Name</th>\n",
       "      <th>Color</th>\n",
       "      <th>RAM</th>\n",
       "      <th>Storage (ROM)</th>\n",
       "      <th>Primary Camera</th>\n",
       "      <th>Secondary Camera</th>\n",
       "      <th>Display Size</th>\n",
       "      <th>Display Resolution</th>\n",
       "      <th>Processor</th>\n",
       "      <th>Processor Core</th>\n",
       "      <th>Battery Capacity</th>\n",
       "      <th>Price</th>\n",
       "    </tr>\n",
       "  </thead>\n",
       "  <tbody>\n",
       "    <tr>\n",
       "      <th>0</th>\n",
       "      <td>-</td>\n",
       "      <td>-</td>\n",
       "      <td>-</td>\n",
       "      <td>-</td>\n",
       "      <td>-</td>\n",
       "      <td>-</td>\n",
       "      <td>-</td>\n",
       "      <td>-</td>\n",
       "      <td>-</td>\n",
       "      <td>-</td>\n",
       "      <td>-</td>\n",
       "      <td>-</td>\n",
       "      <td>-</td>\n",
       "    </tr>\n",
       "  </tbody>\n",
       "</table>\n",
       "</div>"
      ],
      "text/plain": [
       "  Brand Phone Name Color RAM Storage (ROM) Primary Camera Secondary Camera  \\\n",
       "0     -          -     -   -             -              -                -   \n",
       "\n",
       "  Display Size Display Resolution Processor Processor Core Battery Capacity  \\\n",
       "0            -                  -         -              -                -   \n",
       "\n",
       "  Price  \n",
       "0     -  "
      ]
     },
     "execution_count": 47,
     "metadata": {},
     "output_type": "execute_result"
    }
   ],
   "source": [
    "#Checking the dataframe\n",
    "flipkart"
   ]
  },
  {
   "cell_type": "markdown",
   "id": "0809de98",
   "metadata": {},
   "source": [
    "# 5. Write a program to scrap geospatial coordinates (latitude, longitude) of a city searched on google maps."
   ]
  },
  {
   "cell_type": "code",
   "execution_count": 152,
   "id": "c4264839",
   "metadata": {},
   "outputs": [
    {
     "name": "stderr",
     "output_type": "stream",
     "text": [
      "C:\\Users\\Sony\\AppData\\Local\\Temp/ipykernel_1708/2372367619.py:2: DeprecationWarning: executable_path has been deprecated, please pass in a Service object\n",
      "  driver=webdriver.Chrome(\"C:\\\\Users\\\\Sony\\\\AppData\\\\Local\\\\Google\\\\Chrome\\\\chromedriver.exe\")  #r converts string to raw string\n"
     ]
    }
   ],
   "source": [
    "#Connect to web driver\n",
    "driver=webdriver.Chrome(\"C:\\\\Users\\\\Sony\\\\AppData\\\\Local\\\\Google\\\\Chrome\\\\chromedriver.exe\")  #r converts string to raw string\n",
    "#If not r, we can use executable_path = \"C:/path name\""
   ]
  },
  {
   "cell_type": "code",
   "execution_count": 156,
   "id": "aaf5a4be",
   "metadata": {},
   "outputs": [],
   "source": [
    "#Getting the website to driver\n",
    "driver.get('https://www.google.com/maps')\n",
    "\n",
    "#When we run this line, automatically the webpage will be opened"
   ]
  },
  {
   "cell_type": "code",
   "execution_count": 157,
   "id": "7b52c931",
   "metadata": {},
   "outputs": [
    {
     "name": "stdout",
     "output_type": "stream",
     "text": [
      "Enter City: Nasik\n"
     ]
    }
   ],
   "source": [
    "#Creating user input for entering the city manually\n",
    "city=input(\"Enter City: \")\n"
   ]
  },
  {
   "cell_type": "code",
   "execution_count": 158,
   "id": "80b155d3",
   "metadata": {},
   "outputs": [],
   "source": [
    "from selenium.common.exceptions import NoSuchElementException"
   ]
  },
  {
   "cell_type": "code",
   "execution_count": 159,
   "id": "f75d38a9",
   "metadata": {},
   "outputs": [
    {
     "name": "stdout",
     "output_type": "stream",
     "text": [
      "Latitude:  19.98848\n",
      "Longitude:  73.7640448\n"
     ]
    }
   ],
   "source": [
    "#For finding the coordinates, we will use driver.current_url function that provides current url automatically\n",
    "coordinates=driver.current_url\n",
    "lat=coordinates.split('@')[1].split(',')[0]\n",
    "long=coordinates.split('@')[1].split(',')[1].split(',')[0]\n",
    "print('Latitude: ',lat)\n",
    "print('Longitude: ',long)"
   ]
  },
  {
   "cell_type": "code",
   "execution_count": 151,
   "id": "8b95dd86",
   "metadata": {},
   "outputs": [],
   "source": [
    "#Closing the driver\n",
    "driver.close()"
   ]
  },
  {
   "cell_type": "markdown",
   "id": "1c105075",
   "metadata": {},
   "source": [
    "# 6. Write a program to scrap details of all the funding deals for second quarter (i.e. Jan 21 – March 21 ) from trak.in."
   ]
  },
  {
   "cell_type": "code",
   "execution_count": 139,
   "id": "cb38ff52",
   "metadata": {},
   "outputs": [
    {
     "name": "stderr",
     "output_type": "stream",
     "text": [
      "C:\\Users\\Sony\\AppData\\Local\\Temp/ipykernel_1708/2372367619.py:2: DeprecationWarning: executable_path has been deprecated, please pass in a Service object\n",
      "  driver=webdriver.Chrome(\"C:\\\\Users\\\\Sony\\\\AppData\\\\Local\\\\Google\\\\Chrome\\\\chromedriver.exe\")  #r converts string to raw string\n"
     ]
    }
   ],
   "source": [
    "#Connect to web driver\n",
    "driver=webdriver.Chrome(\"C:\\\\Users\\\\Sony\\\\AppData\\\\Local\\\\Google\\\\Chrome\\\\chromedriver.exe\")  #r converts string to raw string\n",
    "#If not r, we can use executable_path = \"C:/path name\""
   ]
  },
  {
   "cell_type": "code",
   "execution_count": 140,
   "id": "0b2375d9",
   "metadata": {},
   "outputs": [],
   "source": [
    "#Getting the website to driver\n",
    "driver.get('https://trak.in/')\n",
    "\n",
    "#When we run this line, automatically the webpage will be opened"
   ]
  },
  {
   "cell_type": "code",
   "execution_count": 141,
   "id": "c341b0cb",
   "metadata": {},
   "outputs": [
    {
     "name": "stderr",
     "output_type": "stream",
     "text": [
      "C:\\Users\\Sony\\AppData\\Local\\Temp/ipykernel_1708/3460604421.py:2: DeprecationWarning: find_element_by_xpath is deprecated. Please use find_element(by=By.XPATH, value=xpath) instead\n",
      "  funding_deals=driver.find_element_by_xpath(\"//li[@id='menu-item-51510']/a\").get_attribute('href')\n"
     ]
    }
   ],
   "source": [
    "#Getting the Funding Deals details by fetching the link\n",
    "funding_deals=driver.find_element_by_xpath(\"//li[@id='menu-item-51510']/a\").get_attribute('href')\n",
    "driver.get(funding_deals)"
   ]
  },
  {
   "cell_type": "code",
   "execution_count": 142,
   "id": "20b79e72",
   "metadata": {},
   "outputs": [
    {
     "name": "stderr",
     "output_type": "stream",
     "text": [
      "C:\\Users\\Sony\\AppData\\Local\\Temp/ipykernel_1708/1418793857.py:13: DeprecationWarning: find_element_by_xpath is deprecated. Please use find_element(by=By.XPATH, value=xpath) instead\n",
      "  driver.find_element_by_xpath(\"//div[@id='tablepress-{}_wrapper']/div/label/select/option[4]\".format(i)).click()\n",
      "C:\\Users\\Sony\\AppData\\Local\\Temp/ipykernel_1708/1418793857.py:17: DeprecationWarning: find_elements_by_xpath is deprecated. Please use find_elements(by=By.XPATH, value=xpath) instead\n",
      "  date=driver.find_elements_by_xpath(\"//table[@id='tablepress-{}']/tbody/tr/td[2]\".format(i))\n",
      "C:\\Users\\Sony\\AppData\\Local\\Temp/ipykernel_1708/1418793857.py:22: DeprecationWarning: find_elements_by_xpath is deprecated. Please use find_elements(by=By.XPATH, value=xpath) instead\n",
      "  startup=driver.find_elements_by_xpath(\"//table[@id='tablepress-{}']/tbody/tr/td[3]\".format(i))\n",
      "C:\\Users\\Sony\\AppData\\Local\\Temp/ipykernel_1708/1418793857.py:27: DeprecationWarning: find_elements_by_xpath is deprecated. Please use find_elements(by=By.XPATH, value=xpath) instead\n",
      "  industry=driver.find_elements_by_xpath(\"//table[@id='tablepress-{}']/tbody/tr/td[4]\".format(i))\n",
      "C:\\Users\\Sony\\AppData\\Local\\Temp/ipykernel_1708/1418793857.py:32: DeprecationWarning: find_elements_by_xpath is deprecated. Please use find_elements(by=By.XPATH, value=xpath) instead\n",
      "  sv=driver.find_elements_by_xpath(\"//table[@id='tablepress-{}']/tbody/tr/td[5]\".format(i))\n",
      "C:\\Users\\Sony\\AppData\\Local\\Temp/ipykernel_1708/1418793857.py:37: DeprecationWarning: find_elements_by_xpath is deprecated. Please use find_elements(by=By.XPATH, value=xpath) instead\n",
      "  location=driver.find_elements_by_xpath(\"//table[@id='tablepress-{}']/tbody/tr/td[6]\".format(i))\n",
      "C:\\Users\\Sony\\AppData\\Local\\Temp/ipykernel_1708/1418793857.py:42: DeprecationWarning: find_elements_by_xpath is deprecated. Please use find_elements(by=By.XPATH, value=xpath) instead\n",
      "  investor=driver.find_elements_by_xpath(\"//table[@id='tablepress-{}']/tbody/tr/td[7]\".format(i))\n",
      "C:\\Users\\Sony\\AppData\\Local\\Temp/ipykernel_1708/1418793857.py:47: DeprecationWarning: find_elements_by_xpath is deprecated. Please use find_elements(by=By.XPATH, value=xpath) instead\n",
      "  investment=driver.find_elements_by_xpath(\"//table[@id='tablepress-{}']/tbody/tr/td[8]\".format(i))\n",
      "C:\\Users\\Sony\\AppData\\Local\\Temp/ipykernel_1708/1418793857.py:52: DeprecationWarning: find_elements_by_xpath is deprecated. Please use find_elements(by=By.XPATH, value=xpath) instead\n",
      "  amount=driver.find_elements_by_xpath(\"//table[@id='tablepress-{}']/tbody/tr/td[9]\".format(i))\n"
     ]
    }
   ],
   "source": [
    "#Taking the empty lists of the details to be scraped\n",
    "Date=[]\n",
    "Startup=[]\n",
    "Industry=[]\n",
    "SubVertical=[]\n",
    "Location=[]\n",
    "Investor=[]\n",
    "Investment=[]\n",
    "Amount=[]\n",
    "\n",
    "#For quarter Jan 21 - March 21, the range numbers are between 48-51. So we will consider that range and scrap data\n",
    "for i in range(48,51):\n",
    "    driver.find_element_by_xpath(\"//div[@id='tablepress-{}_wrapper']/div/label/select/option[4]\".format(i)).click()\n",
    "#As the tablepress value differs for each quarter, we are iterating in the for loop and converting into raw string using format\n",
    "    \n",
    "    #Scrapping date data from the webpage\n",
    "    date=driver.find_elements_by_xpath(\"//table[@id='tablepress-{}']/tbody/tr/td[2]\".format(i))\n",
    "    for d in date:\n",
    "        Date.append(d.text)\n",
    "        \n",
    "    #Scrapping startup details data from the webpage\n",
    "    startup=driver.find_elements_by_xpath(\"//table[@id='tablepress-{}']/tbody/tr/td[3]\".format(i))\n",
    "    for s in startup:\n",
    "        Startup.append(s.text)\n",
    "        \n",
    "    #Scrapping Industry details data from the webpage\n",
    "    industry=driver.find_elements_by_xpath(\"//table[@id='tablepress-{}']/tbody/tr/td[4]\".format(i))\n",
    "    for ind in industry:\n",
    "        Industry.append(ind.text)\n",
    "        \n",
    "    #Scrapping Subvertical details data from the webpage\n",
    "    sv=driver.find_elements_by_xpath(\"//table[@id='tablepress-{}']/tbody/tr/td[5]\".format(i))\n",
    "    for s in sv:\n",
    "        SubVertical.append(s.text)\n",
    "        \n",
    "    #Scrapping Location details data from the webpage\n",
    "    location=driver.find_elements_by_xpath(\"//table[@id='tablepress-{}']/tbody/tr/td[6]\".format(i))\n",
    "    for l in location:\n",
    "        Location.append(l.text)\n",
    "        \n",
    "    #Scrapping Investor details data from the webpage\n",
    "    investor=driver.find_elements_by_xpath(\"//table[@id='tablepress-{}']/tbody/tr/td[7]\".format(i))\n",
    "    for inv in investor:\n",
    "        Investor.append(inv.text)\n",
    "        \n",
    "    #Scrapping Investment type details data from the webpage\n",
    "    investment=driver.find_elements_by_xpath(\"//table[@id='tablepress-{}']/tbody/tr/td[8]\".format(i))\n",
    "    for it in investment:\n",
    "        Investment.append(it.text)\n",
    "        \n",
    "    #Scrapping the amount data from the webpage\n",
    "    amount=driver.find_elements_by_xpath(\"//table[@id='tablepress-{}']/tbody/tr/td[9]\".format(i))\n",
    "    for a in amount:\n",
    "        Amount.append(a.text)"
   ]
  },
  {
   "cell_type": "code",
   "execution_count": 79,
   "id": "225760f1",
   "metadata": {},
   "outputs": [
    {
     "data": {
      "text/html": [
       "<div>\n",
       "<style scoped>\n",
       "    .dataframe tbody tr th:only-of-type {\n",
       "        vertical-align: middle;\n",
       "    }\n",
       "\n",
       "    .dataframe tbody tr th {\n",
       "        vertical-align: top;\n",
       "    }\n",
       "\n",
       "    .dataframe thead th {\n",
       "        text-align: right;\n",
       "    }\n",
       "</style>\n",
       "<table border=\"1\" class=\"dataframe\">\n",
       "  <thead>\n",
       "    <tr style=\"text-align: right;\">\n",
       "      <th></th>\n",
       "      <th>Date</th>\n",
       "      <th>Startup</th>\n",
       "      <th>Industry</th>\n",
       "      <th>SubVertical</th>\n",
       "      <th>Location</th>\n",
       "      <th>Investor</th>\n",
       "      <th>Investment</th>\n",
       "      <th>Amount</th>\n",
       "    </tr>\n",
       "  </thead>\n",
       "  <tbody>\n",
       "    <tr>\n",
       "      <th>0</th>\n",
       "      <td>15/07/2020</td>\n",
       "      <td>Flipkart</td>\n",
       "      <td>E-commerce</td>\n",
       "      <td>E-commerce</td>\n",
       "      <td>Bangalore</td>\n",
       "      <td>Walmart Inc</td>\n",
       "      <td>M&amp;A</td>\n",
       "      <td>1,200,000,000</td>\n",
       "    </tr>\n",
       "    <tr>\n",
       "      <th>1</th>\n",
       "      <td>16/07/2020</td>\n",
       "      <td>Vedantu</td>\n",
       "      <td>EduTech</td>\n",
       "      <td>Online Tutoring</td>\n",
       "      <td>Bangalore</td>\n",
       "      <td>Coatue Management</td>\n",
       "      <td>Series D</td>\n",
       "      <td>100,000,000</td>\n",
       "    </tr>\n",
       "    <tr>\n",
       "      <th>2</th>\n",
       "      <td>16/07/2020</td>\n",
       "      <td>Crio</td>\n",
       "      <td>EduTech</td>\n",
       "      <td>Learning Platform for Developers</td>\n",
       "      <td>Bangalore</td>\n",
       "      <td>021 Capital</td>\n",
       "      <td>pre-Series A</td>\n",
       "      <td>934,160</td>\n",
       "    </tr>\n",
       "    <tr>\n",
       "      <th>3</th>\n",
       "      <td>14/07/2020</td>\n",
       "      <td>goDutch</td>\n",
       "      <td>FinTech</td>\n",
       "      <td>Group Payments</td>\n",
       "      <td>Mumbai</td>\n",
       "      <td>Matrix India,Y Combinator, Global Founders Cap...</td>\n",
       "      <td>Seed</td>\n",
       "      <td>1,700,000</td>\n",
       "    </tr>\n",
       "    <tr>\n",
       "      <th>4</th>\n",
       "      <td>13/07/2020</td>\n",
       "      <td>Mystifly</td>\n",
       "      <td>Airfare Marketplace</td>\n",
       "      <td>Ticketing, Airline Retailing, and Post-Ticketi...</td>\n",
       "      <td>Singapore and Bangalore</td>\n",
       "      <td>Recruit Co. Ltd.</td>\n",
       "      <td>pre-Series B</td>\n",
       "      <td>3,300,000</td>\n",
       "    </tr>\n",
       "    <tr>\n",
       "      <th>5</th>\n",
       "      <td>09/07/2020</td>\n",
       "      <td>JetSynthesys</td>\n",
       "      <td>Gaming and Entertainment</td>\n",
       "      <td>Gaming and Entertainment</td>\n",
       "      <td>Pune</td>\n",
       "      <td>Adar Poonawalla and Kris Gopalakrishnan.</td>\n",
       "      <td>Venture-Series Unknown</td>\n",
       "      <td>400,000</td>\n",
       "    </tr>\n",
       "    <tr>\n",
       "      <th>6</th>\n",
       "      <td>10/07/2020</td>\n",
       "      <td>gigIndia</td>\n",
       "      <td>Marketplace</td>\n",
       "      <td>Crowd Sourcing, Freelance</td>\n",
       "      <td>Pune</td>\n",
       "      <td>Incubate Fund India and Beyond Next Ventures</td>\n",
       "      <td>pre-Series A</td>\n",
       "      <td>974,200</td>\n",
       "    </tr>\n",
       "    <tr>\n",
       "      <th>7</th>\n",
       "      <td>15/07/2020</td>\n",
       "      <td>PumPumPum</td>\n",
       "      <td>Automotive Rental</td>\n",
       "      <td>Used Car-leasing platform</td>\n",
       "      <td>Gurgaon</td>\n",
       "      <td>Early Adapters Syndicate</td>\n",
       "      <td>Seed</td>\n",
       "      <td>292,800</td>\n",
       "    </tr>\n",
       "    <tr>\n",
       "      <th>8</th>\n",
       "      <td>14/07/2020</td>\n",
       "      <td>FLYX</td>\n",
       "      <td>OTT Player</td>\n",
       "      <td>Streaming Social Network</td>\n",
       "      <td>New York and Delhi</td>\n",
       "      <td>Raj Mishra, founder of AIT Global Inc</td>\n",
       "      <td>pre-Seed</td>\n",
       "      <td>200,000</td>\n",
       "    </tr>\n",
       "    <tr>\n",
       "      <th>9</th>\n",
       "      <td>13/07/2020</td>\n",
       "      <td>Open Appliances Pvt. Ltd.</td>\n",
       "      <td>Information Technology</td>\n",
       "      <td>Internet-of-Things Security Solutions</td>\n",
       "      <td>Bangalore</td>\n",
       "      <td>Unicorn India Ventures</td>\n",
       "      <td>Venture-Series Unknown</td>\n",
       "      <td>500,000</td>\n",
       "    </tr>\n",
       "    <tr>\n",
       "      <th>10</th>\n",
       "      <td>15/08/2020</td>\n",
       "      <td>Practo</td>\n",
       "      <td>HealthTech</td>\n",
       "      <td>Health care and Wellness</td>\n",
       "      <td>Bangalore</td>\n",
       "      <td>A1A Company</td>\n",
       "      <td>Series F</td>\n",
       "      <td>32,000,000</td>\n",
       "    </tr>\n",
       "    <tr>\n",
       "      <th>11</th>\n",
       "      <td>13/08/2020</td>\n",
       "      <td>Medlife</td>\n",
       "      <td>E-commerce</td>\n",
       "      <td>Online Pharmacy</td>\n",
       "      <td>Bangalore</td>\n",
       "      <td>Prasid Uno Family Trust and SC Credit Fund</td>\n",
       "      <td></td>\n",
       "      <td>23,000,000</td>\n",
       "    </tr>\n",
       "    <tr>\n",
       "      <th>12</th>\n",
       "      <td>13/08/2020</td>\n",
       "      <td>HungerBox</td>\n",
       "      <td>FoodTech</td>\n",
       "      <td>Online Food Delivery Service</td>\n",
       "      <td>Bangalore</td>\n",
       "      <td>One97, Sabre Partners Trust, Pratithi Investme...</td>\n",
       "      <td>Series D1</td>\n",
       "      <td>1,560,000</td>\n",
       "    </tr>\n",
       "    <tr>\n",
       "      <th>13</th>\n",
       "      <td>04/08/2020</td>\n",
       "      <td>Dunzo</td>\n",
       "      <td>Hyper-local Logistics</td>\n",
       "      <td>Online Delivery Services</td>\n",
       "      <td>Bangalore</td>\n",
       "      <td>Existing Backers</td>\n",
       "      <td>In Progress</td>\n",
       "      <td>30,000,000</td>\n",
       "    </tr>\n",
       "    <tr>\n",
       "      <th>14</th>\n",
       "      <td>11/08/2020</td>\n",
       "      <td>Terra.do</td>\n",
       "      <td>EduTech</td>\n",
       "      <td>Online Climate School, E-learning</td>\n",
       "      <td>Stanford, California,</td>\n",
       "      <td>Stanford Angels and Entrepreneurs (India), BEE...</td>\n",
       "      <td>Seed</td>\n",
       "      <td>1,400,000</td>\n",
       "    </tr>\n",
       "    <tr>\n",
       "      <th>15</th>\n",
       "      <td>12/08/2020</td>\n",
       "      <td>Classplus</td>\n",
       "      <td>EduTech</td>\n",
       "      <td>E-learning, Online Tutoring</td>\n",
       "      <td>Noida</td>\n",
       "      <td>Falcon Edge</td>\n",
       "      <td>In Progress</td>\n",
       "      <td>upto 15,000,000</td>\n",
       "    </tr>\n",
       "    <tr>\n",
       "      <th>16</th>\n",
       "      <td>14/08/2020</td>\n",
       "      <td>Niyo</td>\n",
       "      <td>FinTech</td>\n",
       "      <td>Financial Services</td>\n",
       "      <td>Bangalore</td>\n",
       "      <td>Niyo Solutions Inc.</td>\n",
       "      <td></td>\n",
       "      <td>6,000,000</td>\n",
       "    </tr>\n",
       "    <tr>\n",
       "      <th>17</th>\n",
       "      <td>10/08/2020</td>\n",
       "      <td>ZestMoney</td>\n",
       "      <td>FinTech</td>\n",
       "      <td>Financial Services</td>\n",
       "      <td>Bangalore</td>\n",
       "      <td>Primrose Hills Ventures</td>\n",
       "      <td></td>\n",
       "      <td>10,670,000</td>\n",
       "    </tr>\n",
       "    <tr>\n",
       "      <th>18</th>\n",
       "      <td>07/08/2020</td>\n",
       "      <td>FreshToHome</td>\n",
       "      <td>E-commerce</td>\n",
       "      <td>Food Delivery</td>\n",
       "      <td>Bangalore</td>\n",
       "      <td>Ascent Capital</td>\n",
       "      <td>Venture</td>\n",
       "      <td>16,200,000</td>\n",
       "    </tr>\n",
       "    <tr>\n",
       "      <th>19</th>\n",
       "      <td>13/08/2020</td>\n",
       "      <td>Eduvanz</td>\n",
       "      <td>FinTech</td>\n",
       "      <td>Financial Services</td>\n",
       "      <td>Mumbai</td>\n",
       "      <td>Sequoia India, Unitus</td>\n",
       "      <td>Series A</td>\n",
       "      <td>5,000,000</td>\n",
       "    </tr>\n",
       "    <tr>\n",
       "      <th>20</th>\n",
       "      <td>03/08/2020</td>\n",
       "      <td>CrowdPouch</td>\n",
       "      <td>FinTech</td>\n",
       "      <td>Financial Services</td>\n",
       "      <td>Bangalore</td>\n",
       "      <td>Elina Investments Pvt. Ltd</td>\n",
       "      <td>Angel</td>\n",
       "      <td>NA</td>\n",
       "    </tr>\n",
       "    <tr>\n",
       "      <th>21</th>\n",
       "      <td>04/08/2020</td>\n",
       "      <td>DrinkPrime</td>\n",
       "      <td>Water Purification</td>\n",
       "      <td>Water Purification</td>\n",
       "      <td>Bangalore</td>\n",
       "      <td>Sequoia Surge, ON Mauritius</td>\n",
       "      <td>Pre-Series A</td>\n",
       "      <td>2,880,000</td>\n",
       "    </tr>\n",
       "    <tr>\n",
       "      <th>22</th>\n",
       "      <td>08/09/2020</td>\n",
       "      <td>Byju’s</td>\n",
       "      <td>EduTech</td>\n",
       "      <td>Online Tutoring</td>\n",
       "      <td>Bangalore</td>\n",
       "      <td>Silver Lake, Tiger Global, General Atlantic an...</td>\n",
       "      <td>Private Equity</td>\n",
       "      <td>500,000,000</td>\n",
       "    </tr>\n",
       "    <tr>\n",
       "      <th>23</th>\n",
       "      <td>12/09/2020</td>\n",
       "      <td>mCaffeine</td>\n",
       "      <td>Personal Care</td>\n",
       "      <td>Skincare &amp; Haircare</td>\n",
       "      <td>Mumbai</td>\n",
       "      <td>Amicus Capital Private Equity I LLP, Amicus Ca...</td>\n",
       "      <td>Series B</td>\n",
       "      <td>3,000,000</td>\n",
       "    </tr>\n",
       "    <tr>\n",
       "      <th>24</th>\n",
       "      <td>09/09/2020</td>\n",
       "      <td>Qshala</td>\n",
       "      <td>EduTech</td>\n",
       "      <td>Online Curiosity Platform for Kids</td>\n",
       "      <td>Bangalore</td>\n",
       "      <td>Rainmatter Capital</td>\n",
       "      <td>Angel</td>\n",
       "      <td>370,000</td>\n",
       "    </tr>\n",
       "    <tr>\n",
       "      <th>25</th>\n",
       "      <td>02/09/2020</td>\n",
       "      <td>Winzo</td>\n",
       "      <td>Online Gaming</td>\n",
       "      <td>Online Gaming</td>\n",
       "      <td>New Delhi</td>\n",
       "      <td>Kalaari Capital Partners, IndigoEdge Managemen...</td>\n",
       "      <td>Series B</td>\n",
       "      <td>15,500,000</td>\n",
       "    </tr>\n",
       "    <tr>\n",
       "      <th>26</th>\n",
       "      <td>09/09/2020</td>\n",
       "      <td>Hippo Video</td>\n",
       "      <td>Video Customer Experience(CX) Platform</td>\n",
       "      <td>Video Customer Experience(CX) Platform</td>\n",
       "      <td>Newark, Delaware, United States of Amercia</td>\n",
       "      <td>Alpha Wave Incubation, Exfinity Venture Partne...</td>\n",
       "      <td>Series A</td>\n",
       "      <td>4,500,000</td>\n",
       "    </tr>\n",
       "    <tr>\n",
       "      <th>27</th>\n",
       "      <td>07/09/2020</td>\n",
       "      <td>Melorra</td>\n",
       "      <td>E-commerce</td>\n",
       "      <td>Online Jewelry Store</td>\n",
       "      <td>Bangalore</td>\n",
       "      <td>Shadow Holdings, Lightbox.</td>\n",
       "      <td>Debt Financing</td>\n",
       "      <td>upto 8,900,000</td>\n",
       "    </tr>\n",
       "    <tr>\n",
       "      <th>28</th>\n",
       "      <td>07/09/2020</td>\n",
       "      <td>1mg</td>\n",
       "      <td>E-commerce</td>\n",
       "      <td>Online Pharmacy</td>\n",
       "      <td>Gurgaon</td>\n",
       "      <td>Gaja Capital, Tata Capital, Partners Group</td>\n",
       "      <td>In Progress</td>\n",
       "      <td>100,000,000</td>\n",
       "    </tr>\n",
       "    <tr>\n",
       "      <th>29</th>\n",
       "      <td>31/08/2020</td>\n",
       "      <td>mfine</td>\n",
       "      <td>HealthTech</td>\n",
       "      <td>On-Demand Healthcare Services</td>\n",
       "      <td>Bangalore</td>\n",
       "      <td>Caretech Pte Inc</td>\n",
       "      <td>Series B</td>\n",
       "      <td>5,400,000</td>\n",
       "    </tr>\n",
       "    <tr>\n",
       "      <th>30</th>\n",
       "      <td>31/08/2020</td>\n",
       "      <td>Apna</td>\n",
       "      <td>Human Resources</td>\n",
       "      <td>Recruitment Platform</td>\n",
       "      <td>Bangalore</td>\n",
       "      <td>Lightspeed India and Sequoia Capital India</td>\n",
       "      <td>Series A</td>\n",
       "      <td>8,000,000</td>\n",
       "    </tr>\n",
       "    <tr>\n",
       "      <th>31</th>\n",
       "      <td>03/09/2020</td>\n",
       "      <td>Railofy</td>\n",
       "      <td>Transportation</td>\n",
       "      <td>WL &amp; RAC protection platform</td>\n",
       "      <td>Mumbai</td>\n",
       "      <td>Chiratae Ventures</td>\n",
       "      <td>Seed</td>\n",
       "      <td>950,000</td>\n",
       "    </tr>\n",
       "    <tr>\n",
       "      <th>32</th>\n",
       "      <td>08/09/2020</td>\n",
       "      <td>Cell Propulsion</td>\n",
       "      <td>Automobile</td>\n",
       "      <td>Electric Mobility Solutions</td>\n",
       "      <td>Bangalore</td>\n",
       "      <td>growX Ventures and Micelio</td>\n",
       "      <td>pre-Series A</td>\n",
       "      <td>NA</td>\n",
       "    </tr>\n",
       "  </tbody>\n",
       "</table>\n",
       "</div>"
      ],
      "text/plain": [
       "          Date                    Startup  \\\n",
       "0   15/07/2020                   Flipkart   \n",
       "1   16/07/2020                    Vedantu   \n",
       "2   16/07/2020                       Crio   \n",
       "3   14/07/2020                    goDutch   \n",
       "4   13/07/2020                   Mystifly   \n",
       "5   09/07/2020               JetSynthesys   \n",
       "6   10/07/2020                   gigIndia   \n",
       "7   15/07/2020                  PumPumPum   \n",
       "8   14/07/2020                       FLYX   \n",
       "9   13/07/2020  Open Appliances Pvt. Ltd.   \n",
       "10  15/08/2020                     Practo   \n",
       "11  13/08/2020                    Medlife   \n",
       "12  13/08/2020                  HungerBox   \n",
       "13  04/08/2020                      Dunzo   \n",
       "14  11/08/2020                   Terra.do   \n",
       "15  12/08/2020                  Classplus   \n",
       "16  14/08/2020                       Niyo   \n",
       "17  10/08/2020                  ZestMoney   \n",
       "18  07/08/2020                FreshToHome   \n",
       "19  13/08/2020                    Eduvanz   \n",
       "20  03/08/2020                 CrowdPouch   \n",
       "21  04/08/2020                 DrinkPrime   \n",
       "22  08/09/2020                     Byju’s   \n",
       "23  12/09/2020                  mCaffeine   \n",
       "24  09/09/2020                     Qshala   \n",
       "25  02/09/2020                      Winzo   \n",
       "26  09/09/2020                Hippo Video   \n",
       "27  07/09/2020                    Melorra   \n",
       "28  07/09/2020                        1mg   \n",
       "29  31/08/2020                      mfine   \n",
       "30  31/08/2020                       Apna   \n",
       "31  03/09/2020                    Railofy   \n",
       "32  08/09/2020            Cell Propulsion   \n",
       "\n",
       "                                  Industry  \\\n",
       "0                               E-commerce   \n",
       "1                                  EduTech   \n",
       "2                                  EduTech   \n",
       "3                                  FinTech   \n",
       "4                      Airfare Marketplace   \n",
       "5                 Gaming and Entertainment   \n",
       "6                              Marketplace   \n",
       "7                        Automotive Rental   \n",
       "8                               OTT Player   \n",
       "9                   Information Technology   \n",
       "10                              HealthTech   \n",
       "11                              E-commerce   \n",
       "12                                FoodTech   \n",
       "13                   Hyper-local Logistics   \n",
       "14                                 EduTech   \n",
       "15                                 EduTech   \n",
       "16                                 FinTech   \n",
       "17                                 FinTech   \n",
       "18                              E-commerce   \n",
       "19                                 FinTech   \n",
       "20                                 FinTech   \n",
       "21                      Water Purification   \n",
       "22                                 EduTech   \n",
       "23                           Personal Care   \n",
       "24                                 EduTech   \n",
       "25                           Online Gaming   \n",
       "26  Video Customer Experience(CX) Platform   \n",
       "27                              E-commerce   \n",
       "28                              E-commerce   \n",
       "29                              HealthTech   \n",
       "30                         Human Resources   \n",
       "31                          Transportation   \n",
       "32                              Automobile   \n",
       "\n",
       "                                          SubVertical  \\\n",
       "0                                          E-commerce   \n",
       "1                                     Online Tutoring   \n",
       "2                    Learning Platform for Developers   \n",
       "3                                      Group Payments   \n",
       "4   Ticketing, Airline Retailing, and Post-Ticketi...   \n",
       "5                            Gaming and Entertainment   \n",
       "6                           Crowd Sourcing, Freelance   \n",
       "7                           Used Car-leasing platform   \n",
       "8                            Streaming Social Network   \n",
       "9               Internet-of-Things Security Solutions   \n",
       "10                           Health care and Wellness   \n",
       "11                                    Online Pharmacy   \n",
       "12                       Online Food Delivery Service   \n",
       "13                           Online Delivery Services   \n",
       "14                  Online Climate School, E-learning   \n",
       "15                        E-learning, Online Tutoring   \n",
       "16                                 Financial Services   \n",
       "17                                 Financial Services   \n",
       "18                                      Food Delivery   \n",
       "19                                 Financial Services   \n",
       "20                                 Financial Services   \n",
       "21                                 Water Purification   \n",
       "22                                    Online Tutoring   \n",
       "23                                Skincare & Haircare   \n",
       "24                 Online Curiosity Platform for Kids   \n",
       "25                                      Online Gaming   \n",
       "26             Video Customer Experience(CX) Platform   \n",
       "27                               Online Jewelry Store   \n",
       "28                                    Online Pharmacy   \n",
       "29                      On-Demand Healthcare Services   \n",
       "30                               Recruitment Platform   \n",
       "31                       WL & RAC protection platform   \n",
       "32                        Electric Mobility Solutions   \n",
       "\n",
       "                                      Location  \\\n",
       "0                                    Bangalore   \n",
       "1                                    Bangalore   \n",
       "2                                    Bangalore   \n",
       "3                                       Mumbai   \n",
       "4                      Singapore and Bangalore   \n",
       "5                                         Pune   \n",
       "6                                         Pune   \n",
       "7                                      Gurgaon   \n",
       "8                           New York and Delhi   \n",
       "9                                    Bangalore   \n",
       "10                                   Bangalore   \n",
       "11                                   Bangalore   \n",
       "12                                   Bangalore   \n",
       "13                                   Bangalore   \n",
       "14                       Stanford, California,   \n",
       "15                                       Noida   \n",
       "16                                   Bangalore   \n",
       "17                                   Bangalore   \n",
       "18                                   Bangalore   \n",
       "19                                      Mumbai   \n",
       "20                                   Bangalore   \n",
       "21                                   Bangalore   \n",
       "22                                   Bangalore   \n",
       "23                                      Mumbai   \n",
       "24                                   Bangalore   \n",
       "25                                   New Delhi   \n",
       "26  Newark, Delaware, United States of Amercia   \n",
       "27                                   Bangalore   \n",
       "28                                     Gurgaon   \n",
       "29                                   Bangalore   \n",
       "30                                   Bangalore   \n",
       "31                                      Mumbai   \n",
       "32                                   Bangalore   \n",
       "\n",
       "                                             Investor              Investment  \\\n",
       "0                                         Walmart Inc                     M&A   \n",
       "1                                   Coatue Management                Series D   \n",
       "2                                         021 Capital            pre-Series A   \n",
       "3   Matrix India,Y Combinator, Global Founders Cap...                    Seed   \n",
       "4                                    Recruit Co. Ltd.            pre-Series B   \n",
       "5            Adar Poonawalla and Kris Gopalakrishnan.  Venture-Series Unknown   \n",
       "6        Incubate Fund India and Beyond Next Ventures            pre-Series A   \n",
       "7                            Early Adapters Syndicate                    Seed   \n",
       "8               Raj Mishra, founder of AIT Global Inc                pre-Seed   \n",
       "9                              Unicorn India Ventures  Venture-Series Unknown   \n",
       "10                                        A1A Company                Series F   \n",
       "11         Prasid Uno Family Trust and SC Credit Fund                           \n",
       "12  One97, Sabre Partners Trust, Pratithi Investme...               Series D1   \n",
       "13                                   Existing Backers             In Progress   \n",
       "14  Stanford Angels and Entrepreneurs (India), BEE...                    Seed   \n",
       "15                                        Falcon Edge             In Progress   \n",
       "16                                Niyo Solutions Inc.                           \n",
       "17                            Primrose Hills Ventures                           \n",
       "18                                     Ascent Capital                 Venture   \n",
       "19                              Sequoia India, Unitus                Series A   \n",
       "20                         Elina Investments Pvt. Ltd                   Angel   \n",
       "21                        Sequoia Surge, ON Mauritius            Pre-Series A   \n",
       "22  Silver Lake, Tiger Global, General Atlantic an...          Private Equity   \n",
       "23  Amicus Capital Private Equity I LLP, Amicus Ca...                Series B   \n",
       "24                                 Rainmatter Capital                   Angel   \n",
       "25  Kalaari Capital Partners, IndigoEdge Managemen...                Series B   \n",
       "26  Alpha Wave Incubation, Exfinity Venture Partne...                Series A   \n",
       "27                         Shadow Holdings, Lightbox.          Debt Financing   \n",
       "28         Gaja Capital, Tata Capital, Partners Group             In Progress   \n",
       "29                                   Caretech Pte Inc                Series B   \n",
       "30         Lightspeed India and Sequoia Capital India                Series A   \n",
       "31                                  Chiratae Ventures                    Seed   \n",
       "32                         growX Ventures and Micelio            pre-Series A   \n",
       "\n",
       "             Amount  \n",
       "0     1,200,000,000  \n",
       "1       100,000,000  \n",
       "2           934,160  \n",
       "3         1,700,000  \n",
       "4         3,300,000  \n",
       "5           400,000  \n",
       "6           974,200  \n",
       "7           292,800  \n",
       "8           200,000  \n",
       "9           500,000  \n",
       "10       32,000,000  \n",
       "11       23,000,000  \n",
       "12        1,560,000  \n",
       "13       30,000,000  \n",
       "14        1,400,000  \n",
       "15  upto 15,000,000  \n",
       "16        6,000,000  \n",
       "17       10,670,000  \n",
       "18       16,200,000  \n",
       "19        5,000,000  \n",
       "20               NA  \n",
       "21        2,880,000  \n",
       "22      500,000,000  \n",
       "23        3,000,000  \n",
       "24          370,000  \n",
       "25       15,500,000  \n",
       "26        4,500,000  \n",
       "27   upto 8,900,000  \n",
       "28      100,000,000  \n",
       "29        5,400,000  \n",
       "30        8,000,000  \n",
       "31          950,000  \n",
       "32               NA  "
      ]
     },
     "execution_count": 79,
     "metadata": {},
     "output_type": "execute_result"
    }
   ],
   "source": [
    "#Creating a dataframe for saving the extracted data\n",
    "trak_fund=pd.DataFrame({})\n",
    "trak_fund['Date']=Date\n",
    "trak_fund['Startup']=Startup \n",
    "trak_fund['Industry']=Industry\n",
    "trak_fund['SubVertical']=SubVertical\n",
    "trak_fund['Location']=Location\n",
    "trak_fund['Investor']=Investor\n",
    "trak_fund['Investment']=Investment\n",
    "trak_fund['Amount']=Amount\n",
    "\n",
    "#Checking the dataframe\n",
    "trak_fund"
   ]
  },
  {
   "cell_type": "code",
   "execution_count": 80,
   "id": "7e8bfe16",
   "metadata": {},
   "outputs": [],
   "source": [
    "#Closing the driver\n",
    "driver.close()"
   ]
  },
  {
   "cell_type": "markdown",
   "id": "4b566764",
   "metadata": {},
   "source": [
    "# 7. Write a program to scrap all the available details of best 10 gaming laptops from digit.in."
   ]
  },
  {
   "cell_type": "code",
   "execution_count": 90,
   "id": "0a5d8816",
   "metadata": {},
   "outputs": [
    {
     "name": "stderr",
     "output_type": "stream",
     "text": [
      "C:\\Users\\Sony\\AppData\\Local\\Temp/ipykernel_1708/2372367619.py:2: DeprecationWarning: executable_path has been deprecated, please pass in a Service object\n",
      "  driver=webdriver.Chrome(\"C:\\\\Users\\\\Sony\\\\AppData\\\\Local\\\\Google\\\\Chrome\\\\chromedriver.exe\")  #r converts string to raw string\n"
     ]
    }
   ],
   "source": [
    "#Connect to web driver\n",
    "driver=webdriver.Chrome(\"C:\\\\Users\\\\Sony\\\\AppData\\\\Local\\\\Google\\\\Chrome\\\\chromedriver.exe\")  #r converts string to raw string\n",
    "#If not r, we can use executable_path = \"C:/path name\""
   ]
  },
  {
   "cell_type": "code",
   "execution_count": 91,
   "id": "f44fe3bb",
   "metadata": {},
   "outputs": [],
   "source": [
    "#Getting the website to driver\n",
    "driver.get('https://www.digit.in/')\n",
    "\n",
    "#When we run this line, automatically the webpage will be opened"
   ]
  },
  {
   "cell_type": "code",
   "execution_count": 92,
   "id": "4b533277",
   "metadata": {},
   "outputs": [
    {
     "name": "stderr",
     "output_type": "stream",
     "text": [
      "C:\\Users\\Sony\\AppData\\Local\\Temp/ipykernel_1708/2873982330.py:2: DeprecationWarning: find_element_by_xpath is deprecated. Please use find_element(by=By.XPATH, value=xpath) instead\n",
      "  top10=driver.find_element_by_xpath(\"//div[@class='menu']/ul/li[4]/a\")\n",
      "C:\\Users\\Sony\\AppData\\Local\\Temp/ipykernel_1708/2873982330.py:6: DeprecationWarning: find_element_by_xpath is deprecated. Please use find_element(by=By.XPATH, value=xpath) instead\n",
      "  best_gl=driver.find_element_by_xpath(\"//div[@class='listing_container']/ul/li[26]/a\")\n"
     ]
    }
   ],
   "source": [
    "#Clicking on top 10 option\n",
    "top10=driver.find_element_by_xpath(\"//div[@class='menu']/ul/li[4]/a\")\n",
    "top10.click()\n",
    "\n",
    "#Clicking on best gaming laptops option from top10\n",
    "best_gl=driver.find_element_by_xpath(\"//div[@class='listing_container']/ul/li[26]/a\")\n",
    "best_gl.click()"
   ]
  },
  {
   "cell_type": "code",
   "execution_count": 93,
   "id": "05b46649",
   "metadata": {},
   "outputs": [],
   "source": [
    "#Specifying the url of the webpage to be scraped\n",
    "url=\"https://www.digit.in/top-products/best-gaming-laptops-40.html\"\n",
    "driver.get(url)"
   ]
  },
  {
   "cell_type": "code",
   "execution_count": 143,
   "id": "252c492f",
   "metadata": {},
   "outputs": [
    {
     "name": "stderr",
     "output_type": "stream",
     "text": [
      "C:\\Users\\Sony\\AppData\\Local\\Temp/ipykernel_1708/312170938.py:2: DeprecationWarning: find_elements_by_xpath is deprecated. Please use find_elements(by=By.XPATH, value=xpath) instead\n",
      "  name=driver.find_elements_by_xpath(\"//div[@class='right-container']/div/a/h3\")\n",
      "C:\\Users\\Sony\\AppData\\Local\\Temp/ipykernel_1708/312170938.py:12: DeprecationWarning: find_elements_by_xpath is deprecated. Please use find_elements(by=By.XPATH, value=xpath) instead\n",
      "  OS_type=driver.find_elements_by_xpath(\"//div[@class='product-detail']/div/ul/li[1]/div/div\")\n",
      "C:\\Users\\Sony\\AppData\\Local\\Temp/ipykernel_1708/312170938.py:22: DeprecationWarning: find_elements_by_xpath is deprecated. Please use find_elements(by=By.XPATH, value=xpath) instead\n",
      "  display=driver.find_elements_by_xpath(\"//div[@class='product-detail']/div/ul/li[2]/div/div\")\n",
      "C:\\Users\\Sony\\AppData\\Local\\Temp/ipykernel_1708/312170938.py:32: DeprecationWarning: find_elements_by_xpath is deprecated. Please use find_elements(by=By.XPATH, value=xpath) instead\n",
      "  processor=driver.find_elements_by_xpath(\"//div[@class='product-detail']/div/ul/li[3]/div/div\")\n",
      "C:\\Users\\Sony\\AppData\\Local\\Temp/ipykernel_1708/312170938.py:44: DeprecationWarning: find_elements_by_xpath is deprecated. Please use find_elements(by=By.XPATH, value=xpath) instead\n",
      "  memory=driver.find_elements_by_xpath(\"//div[@class='Spcs-details'][1]/table/tbody/tr[6]/td[1]\")\n",
      "C:\\Users\\Sony\\AppData\\Local\\Temp/ipykernel_1708/312170938.py:47: DeprecationWarning: find_elements_by_xpath is deprecated. Please use find_elements(by=By.XPATH, value=xpath) instead\n",
      "  memory_specs=driver.find_elements_by_xpath(\"//div[@class='Spcs-details'][1]/table/tbody/tr[6]/td[3]\")\n",
      "C:\\Users\\Sony\\AppData\\Local\\Temp/ipykernel_1708/312170938.py:63: DeprecationWarning: find_elements_by_xpath is deprecated. Please use find_elements(by=By.XPATH, value=xpath) instead\n",
      "  weights=driver.find_elements_by_xpath(\"//div[@class='Spcs-details']/table/tbody/tr/td[1]\")\n",
      "C:\\Users\\Sony\\AppData\\Local\\Temp/ipykernel_1708/312170938.py:66: DeprecationWarning: find_elements_by_xpath is deprecated. Please use find_elements(by=By.XPATH, value=xpath) instead\n",
      "  weights_specs=driver.find_elements_by_xpath(\"//div[@class='Spcs-details']/table/tbody/tr/td[3]\")\n",
      "C:\\Users\\Sony\\AppData\\Local\\Temp/ipykernel_1708/312170938.py:77: DeprecationWarning: find_elements_by_xpath is deprecated. Please use find_elements(by=By.XPATH, value=xpath) instead\n",
      "  dims=driver.find_elements_by_xpath(\"//div[@class='Spcs-details']/table/tbody/tr/td[1]\")\n",
      "C:\\Users\\Sony\\AppData\\Local\\Temp/ipykernel_1708/312170938.py:80: DeprecationWarning: find_elements_by_xpath is deprecated. Please use find_elements(by=By.XPATH, value=xpath) instead\n",
      "  dims_specs=driver.find_elements_by_xpath(\"//div[@class='Spcs-details']/table/tbody/tr/td[3]\")\n",
      "C:\\Users\\Sony\\AppData\\Local\\Temp/ipykernel_1708/312170938.py:91: DeprecationWarning: find_elements_by_xpath is deprecated. Please use find_elements(by=By.XPATH, value=xpath) instead\n",
      "  GPs=driver.find_elements_by_xpath(\"//div[@class='Spcs-details']/table/tbody/tr/td[1]\")\n",
      "C:\\Users\\Sony\\AppData\\Local\\Temp/ipykernel_1708/312170938.py:94: DeprecationWarning: find_elements_by_xpath is deprecated. Please use find_elements(by=By.XPATH, value=xpath) instead\n",
      "  GPs_specs=driver.find_elements_by_xpath(\"//div[@class='Spcs-details']/table/tbody/tr/td[3]\")\n",
      "C:\\Users\\Sony\\AppData\\Local\\Temp/ipykernel_1708/312170938.py:107: DeprecationWarning: find_elements_by_xpath is deprecated. Please use find_elements(by=By.XPATH, value=xpath) instead\n",
      "  urls=driver.find_elements_by_xpath(\"//div[@class='full-specs']/span\")\n"
     ]
    }
   ],
   "source": [
    "#Extracting the tags having the laptop name\n",
    "name=driver.find_elements_by_xpath(\"//div[@class='right-container']/div/a/h3\")\n",
    "\n",
    "#Extracting the text from the tags\n",
    "prod_name=[]  #Empty list\n",
    "\n",
    "#As we need to scrap data for all the products, we are running a for loop for extracting all data\n",
    "for i in name:\n",
    "    prod_name.append(i.text)\n",
    "\n",
    "#Extracting the tags having the OS type\n",
    "OS_type=driver.find_elements_by_xpath(\"//div[@class='product-detail']/div/ul/li[1]/div/div\")\n",
    "\n",
    "#Extracting the text from the tags\n",
    "OS=[]  #Empty list\n",
    "\n",
    "#As we need to scrap data for all the products, we are running a for loop for extracting all data\n",
    "for i in OS_type:\n",
    "    OS.append(i.text)\n",
    "\n",
    "#Extracting the tags having display details\n",
    "display=driver.find_elements_by_xpath(\"//div[@class='product-detail']/div/ul/li[2]/div/div\")\n",
    "\n",
    "#Extracting the text from the tags\n",
    "display_specs=[]  #Empty list\n",
    "\n",
    "#As we need to scrap data for all the products, we are running a for loop for extracting all data\n",
    "for i in display:\n",
    "    display_specs.append(i.text)\n",
    "\n",
    "#Extracting the tags having processor details\n",
    "processor=driver.find_elements_by_xpath(\"//div[@class='product-detail']/div/ul/li[3]/div/div\")\n",
    "\n",
    "#Extracting the text from the tags\n",
    "processor_specs=[]  #Empty list\n",
    "\n",
    "#As we need to scrap data for all the products, we are running a for loop for extracting all data\n",
    "for i in processor:\n",
    "    processor_specs.append(i.text)\n",
    "\n",
    "#Extracting the tags having memory specs\n",
    "\n",
    "#List of specification names\n",
    "memory=driver.find_elements_by_xpath(\"//div[@class='Spcs-details'][1]/table/tbody/tr[6]/td[1]\")\n",
    "\n",
    "#Value of the specifications\n",
    "memory_specs=driver.find_elements_by_xpath(\"//div[@class='Spcs-details'][1]/table/tbody/tr[6]/td[3]\")\n",
    "\n",
    "#Now we will separate HDD and RAM text from memory specs tags\n",
    "HDD=[]\n",
    "RAM=[]  #Empty lists\n",
    "for i in range(len(memory)):\n",
    "    if memory[i].text=='Memory':\n",
    "        HDD.append(memory_specs[i].text.split('/')[0])\n",
    "        RAM.append(memory_specs[i].text.split('/')[1])\n",
    "    else:\n",
    "        HDD.append('Not Available')\n",
    "        RAM.append('Not Available')\n",
    "\n",
    "#Extracting the tags having weight\n",
    "\n",
    "#List of specifications name\n",
    "weights=driver.find_elements_by_xpath(\"//div[@class='Spcs-details']/table/tbody/tr/td[1]\")\n",
    "\n",
    "#Value of the specifications\n",
    "weights_specs=driver.find_elements_by_xpath(\"//div[@class='Spcs-details']/table/tbody/tr/td[3]\")\n",
    "\n",
    "#Now we will separate weight text from tags\n",
    "weight=[] #Empty list\n",
    "for i in range(len(weights)):\n",
    "    if weights[i].text=='Weight':\n",
    "        weight.append(weights_specs[i].text)\n",
    "\n",
    "#Extracting the tags having dimensions\n",
    "\n",
    "#List of specifications name\n",
    "dims=driver.find_elements_by_xpath(\"//div[@class='Spcs-details']/table/tbody/tr/td[1]\")\n",
    "\n",
    "#Value of the specifications\n",
    "dims_specs=driver.find_elements_by_xpath(\"//div[@class='Spcs-details']/table/tbody/tr/td[3]\")\n",
    "\n",
    "#Now we will separate dimensions text from tags\n",
    "dimension=[] #Empty list\n",
    "for i in range(len(dims)):\n",
    "    if dims[i].text=='Dimension':\n",
    "        dimension.append(dims_specs[i].text)\n",
    "\n",
    "#Extracting the tags having Graphics Processor\n",
    "\n",
    "#List of specifications name\n",
    "GPs=driver.find_elements_by_xpath(\"//div[@class='Spcs-details']/table/tbody/tr/td[1]\")\n",
    "\n",
    "#Value of the specifications\n",
    "GPs_specs=driver.find_elements_by_xpath(\"//div[@class='Spcs-details']/table/tbody/tr/td[3]\")\n",
    "\n",
    "#Now we will separate GPs text from tags\n",
    "GPU=[] #Empty list\n",
    "for i in range(len(GPs)):\n",
    "    if GPs[i].text=='Graphics Processor':\n",
    "        GPU.append(GPs_specs[i].text)\n",
    "        \n",
    "#Extracting the tags having the price\n",
    "\n",
    "#As there are some prices in the main url, we will go to full specs and scrape the prices\n",
    "#First we will extract the urls of all laptop's full specs\n",
    "full_specs=[]   #Empty list\n",
    "urls=driver.find_elements_by_xpath(\"//div[@class='full-specs']/span\")\n",
    "\n",
    "#Running a for loop for extraction of text from tags\n",
    "for i in urls:\n",
    "    if i.get_attribute('data-href'):\n",
    "        full_specs.append(i.get_attribute('data-href'))\n",
    "        \n",
    "#Now we will extract price by iterating full_specs\n",
    "Price=[]  #Empty list\n",
    "for i in full_specs:\n",
    "    driver.get(i)\n",
    "    try:\n",
    "        prices=driver.find_element_by_xpath(\"//div[@class='Block-price']/b\")  #Getting price tags\n",
    "        Price.append(prices.text)  #Extracting text\n",
    "    except NoSuchElementException as e:   #Running an exception if the price is not available\n",
    "         Price.append(\"Not Available\")    #Message to be printed in places where the price is not available "
   ]
  },
  {
   "cell_type": "code",
   "execution_count": 144,
   "id": "798cb30d",
   "metadata": {},
   "outputs": [
    {
     "data": {
      "text/html": [
       "<div>\n",
       "<style scoped>\n",
       "    .dataframe tbody tr th:only-of-type {\n",
       "        vertical-align: middle;\n",
       "    }\n",
       "\n",
       "    .dataframe tbody tr th {\n",
       "        vertical-align: top;\n",
       "    }\n",
       "\n",
       "    .dataframe thead th {\n",
       "        text-align: right;\n",
       "    }\n",
       "</style>\n",
       "<table border=\"1\" class=\"dataframe\">\n",
       "  <thead>\n",
       "    <tr style=\"text-align: right;\">\n",
       "      <th></th>\n",
       "      <th>Product Name</th>\n",
       "      <th>OS</th>\n",
       "      <th>Display</th>\n",
       "      <th>Processor</th>\n",
       "      <th>HDD</th>\n",
       "      <th>RAM</th>\n",
       "      <th>Weight</th>\n",
       "      <th>Dimension</th>\n",
       "      <th>Graphic Processor</th>\n",
       "      <th>Price</th>\n",
       "    </tr>\n",
       "  </thead>\n",
       "  <tbody>\n",
       "  </tbody>\n",
       "</table>\n",
       "</div>"
      ],
      "text/plain": [
       "Empty DataFrame\n",
       "Columns: [Product Name, OS, Display, Processor, HDD, RAM, Weight, Dimension, Graphic Processor, Price]\n",
       "Index: []"
      ]
     },
     "execution_count": 144,
     "metadata": {},
     "output_type": "execute_result"
    }
   ],
   "source": [
    "#Creating a dataframe for saving our extracted data\n",
    "laptops=pd.DataFrame({'Product Name':prod_name,'OS':OS,'Display':display_specs,'Processor':processor_specs,'HDD':HDD,'RAM':RAM,\n",
    "                     'Weight':weight,'Dimension':dimension,'Graphic Processor':GPU,'Price':Price})\n",
    "laptops"
   ]
  },
  {
   "cell_type": "code",
   "execution_count": 145,
   "id": "63b6c63b",
   "metadata": {},
   "outputs": [],
   "source": [
    "#Closing the driver\n",
    "driver.close()"
   ]
  },
  {
   "cell_type": "code",
   "execution_count": null,
   "id": "5a4ba97f",
   "metadata": {},
   "outputs": [],
   "source": []
  }
 ],
 "metadata": {
  "kernelspec": {
   "display_name": "Python 3 (ipykernel)",
   "language": "python",
   "name": "python3"
  },
  "language_info": {
   "codemirror_mode": {
    "name": "ipython",
    "version": 3
   },
   "file_extension": ".py",
   "mimetype": "text/x-python",
   "name": "python",
   "nbconvert_exporter": "python",
   "pygments_lexer": "ipython3",
   "version": "3.9.7"
  }
 },
 "nbformat": 4,
 "nbformat_minor": 5
}
