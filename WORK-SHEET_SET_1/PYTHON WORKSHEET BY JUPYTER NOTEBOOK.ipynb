{
 "cells": [
  {
   "cell_type": "markdown",
   "id": "2d53c5ed",
   "metadata": {},
   "source": [
    "# Q-11\n"
   ]
  },
  {
   "cell_type": "code",
   "execution_count": 7,
   "id": "730f6e3d",
   "metadata": {},
   "outputs": [
    {
     "name": "stdout",
     "output_type": "stream",
     "text": [
      "Enter the number: 45\n",
      "factorial of  45  (function): 119622220865480194561963161495657715064383733760000000000\n"
     ]
    }
   ],
   "source": [
    "import math\n",
    "num=int(input(\"Enter the number: \"))\n",
    "print(\"factorial of \",num,\" (function): \",end=\"\")\n",
    "print(math.factorial(num))"
   ]
  },
  {
   "cell_type": "code",
   "execution_count": null,
   "id": "51f345fb",
   "metadata": {},
   "outputs": [],
   "source": []
  },
  {
   "cell_type": "markdown",
   "id": "51e05337",
   "metadata": {},
   "source": [
    "# Q-12"
   ]
  },
  {
   "cell_type": "code",
   "execution_count": 1,
   "id": "5d311abe",
   "metadata": {},
   "outputs": [
    {
     "name": "stdout",
     "output_type": "stream",
     "text": [
      "Enter any number:20\n",
      "20 is not prime but composite number\n"
     ]
    }
   ],
   "source": [
    "n= int(input(\"Enter any number:\"))\n",
    "if(n ==0 or n == 1):\n",
    "    printf(n,\"Number is neither prime nor composite\")\n",
    "elif n>1 :\n",
    "    for i in range(2,n):\n",
    "        if(n%i == 0):\n",
    "            print(n,\"is not prime but composite number\")\n",
    "            break\n",
    "    else:\n",
    "        print(n,\"number is prime but not composite number\")\n",
    "else :\n",
    "    print(\"Please enter positive number only \")"
   ]
  },
  {
   "cell_type": "markdown",
   "id": "2b089a4c",
   "metadata": {},
   "source": [
    "# Q-13"
   ]
  },
  {
   "cell_type": "code",
   "execution_count": null,
   "id": "9ce85986",
   "metadata": {},
   "outputs": [],
   "source": [
    "num=int(input(\"Enter a number:\"))\n",
    "temp=num\n",
    "rev=0\n",
    "while(num>0):\n",
    " dig=num%10\n",
    "rev=rev*10+dig\n",
    "     num=num//10\n",
    "if(temp==rev):\n",
    " print(\"The number is palindrome!\")\n",
    "else:\n",
    " print(\"Not a palindrome!\")"
   ]
  },
  {
   "cell_type": "markdown",
   "id": "afc53a17",
   "metadata": {},
   "source": [
    "# Q-14"
   ]
  },
  {
   "cell_type": "code",
   "execution_count": 10,
   "id": "96e5257e",
   "metadata": {},
   "outputs": [
    {
     "name": "stdout",
     "output_type": "stream",
     "text": [
      "Enter base: 10\n",
      "Enter height: 8\n",
      "Enter angle: 45\n",
      "Hypotenuse = 12.806248474865697\n"
     ]
    }
   ],
   "source": [
    "import math\n",
    "\n",
    "a = float(input(\"Enter base: \"))\n",
    "b = float(input(\"Enter height: \"))\n",
    "x = float(input(\"Enter angle: \"))\n",
    "\n",
    "c = math.sqrt(a ** 2 + b ** 2)\n",
    "\n",
    "print(\"Hypotenuse =\", c)"
   ]
  },
  {
   "cell_type": "code",
   "execution_count": null,
   "id": "07050247",
   "metadata": {},
   "outputs": [],
   "source": []
  },
  {
   "cell_type": "markdown",
   "id": "72045ad3",
   "metadata": {},
   "source": [
    "# Q-15"
   ]
  },
  {
   "cell_type": "code",
   "execution_count": 8,
   "id": "9e2e7ef6",
   "metadata": {},
   "outputs": [
    {
     "name": "stdout",
     "output_type": "stream",
     "text": [
      "Enter the string Darshan\n",
      "Character and their frequency\n",
      "D=1\n",
      "a=2\n",
      "r=1\n",
      "s=1\n",
      "h=1\n",
      "n=1\n"
     ]
    }
   ],
   "source": [
    "string=input(\"Enter the string \")\n",
    "freq=[None]*len(string)\n",
    "for i in range(0,len(string)):\n",
    "  freq[i]=1\n",
    "  for j in range(i+1,len(string)):\n",
    "    if(string[i]==string[j]):\n",
    "        freq[i]=freq[i]+1\n",
    "        string=string[:j]+'0'+string[j+1:];\n",
    "print(\"Character and their frequency\");\n",
    "for i in range(0,len(freq)):\n",
    "    if(string[i]!=' ' and string[i]!='0'):\n",
    "        print(string[i]+\"=\"+str(freq[i]))"
   ]
  },
  {
   "cell_type": "code",
   "execution_count": null,
   "id": "fd078797",
   "metadata": {},
   "outputs": [],
   "source": []
  }
 ],
 "metadata": {
  "kernelspec": {
   "display_name": "Python 3 (ipykernel)",
   "language": "python",
   "name": "python3"
  },
  "language_info": {
   "codemirror_mode": {
    "name": "ipython",
    "version": 3
   },
   "file_extension": ".py",
   "mimetype": "text/x-python",
   "name": "python",
   "nbconvert_exporter": "python",
   "pygments_lexer": "ipython3",
   "version": "3.9.7"
  }
 },
 "nbformat": 4,
 "nbformat_minor": 5
}
